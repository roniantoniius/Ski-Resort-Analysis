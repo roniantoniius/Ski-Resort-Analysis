{
 "cells": [
  {
   "cell_type": "markdown",
   "id": "7aee9736",
   "metadata": {},
   "source": [
    "# Analysis of Ski Resorts (Snowboarding Sports) around the World\n",
    "Ski Resorts\n",
    "Data on ski resorts around the world, including details on location, price, slopes, number of lifts, and seasons for each month in 2022.\n",
    "\n",
    "Recommended Analysis\n",
    "- Which countries have the most ski resorts? Are there any groups that stand out?\n",
    "\n",
    "- How does the ski season vary by location?\n",
    "\n",
    "- Which resorts have the highest mountain peaks and elevation changes?\n",
    "\n",
    "- What resorts are best for beginners? What about the experts?\n",
    "\n",
    "- Resort Ski yang Ramah untuk anak-anak\n",
    "\n",
    "- Resort Ski yang Cocok untuk Liburan Keluarga\n",
    "\n",
    "Nama: Roni Antonius Sinabutar\n",
    "\n",
    "Kelas: SIK A Cakap Data Scientist\n",
    "\n",
    "Dataset: https://maven-datasets.s3.amazonaws.com/Ski+Resorts/Ski+Resorts.zip"
   ]
  },
  {
   "cell_type": "code",
   "execution_count": 1,
   "id": "47a60271",
   "metadata": {},
   "outputs": [],
   "source": [
    "from pyforest import *\n",
    "import psycopg2\n",
    "import warnings\n",
    "warnings.simplefilter(\"ignore\")"
   ]
  },
  {
   "cell_type": "code",
   "execution_count": 2,
   "id": "11fe5d42",
   "metadata": {},
   "outputs": [],
   "source": [
    "# data_bersih = pd.read_csv('C:/Users/ASUS/dataset/resort.csv')"
   ]
  },
  {
   "cell_type": "code",
   "execution_count": 3,
   "id": "a9f9b68c",
   "metadata": {},
   "outputs": [],
   "source": [
    "# data_bersih = data_bersih[~data_bersih['Season'].str.contains(',')]"
   ]
  },
  {
   "cell_type": "code",
   "execution_count": 4,
   "id": "7c18fe3d",
   "metadata": {},
   "outputs": [],
   "source": [
    "# data_bersih[['Start_Season', 'End_Season']] = data_bersih['Season'].str.split(' - ', expand=True)"
   ]
  },
  {
   "cell_type": "code",
   "execution_count": 5,
   "id": "c8018155",
   "metadata": {},
   "outputs": [],
   "source": [
    "# data_bersih = data_bersih.dropna(subset=['Start_Season', 'End_Season'])"
   ]
  },
  {
   "cell_type": "code",
   "execution_count": 6,
   "id": "2031d0d6",
   "metadata": {},
   "outputs": [],
   "source": [
    "# data_bersih = data_bersih.drop(columns=['Season'])"
   ]
  },
  {
   "cell_type": "code",
   "execution_count": 7,
   "id": "09f3dd80",
   "metadata": {},
   "outputs": [],
   "source": [
    "# data_bersih"
   ]
  },
  {
   "cell_type": "code",
   "execution_count": 8,
   "id": "c3051348",
   "metadata": {},
   "outputs": [],
   "source": [
    "# data_bersih.to_csv('C:/Users/ASUS/dataset/resort_ril.csv', index=False)"
   ]
  },
  {
   "cell_type": "code",
   "execution_count": 9,
   "id": "75487cee",
   "metadata": {},
   "outputs": [],
   "source": [
    "koneksi = psycopg2.connect(\n",
    "    dbname=\"Ski_Resorts\",\n",
    "    user=\"postgres\",\n",
    "    password=\"admin\",\n",
    "    host=\"localhost\",\n",
    "    port=\"5432\"\n",
    ")"
   ]
  },
  {
   "cell_type": "code",
   "execution_count": 10,
   "id": "bb8ea0e4",
   "metadata": {},
   "outputs": [],
   "source": [
    "sql1 = '''\n",
    "SELECT *\n",
    "FROM resorts\n",
    "'''"
   ]
  },
  {
   "cell_type": "code",
   "execution_count": 11,
   "id": "5bb35ce9",
   "metadata": {},
   "outputs": [
    {
     "data": {
      "application/javascript": [
       "\n",
       "        if (window._pyforest_update_imports_cell) { window._pyforest_update_imports_cell('import pandas as pd'); }\n",
       "    "
      ],
      "text/plain": [
       "<IPython.core.display.Javascript object>"
      ]
     },
     "metadata": {},
     "output_type": "display_data"
    }
   ],
   "source": [
    "df = pd.read_sql_query(sql1, koneksi)"
   ]
  },
  {
   "cell_type": "code",
   "execution_count": 12,
   "id": "8dc475d6",
   "metadata": {
    "scrolled": true
   },
   "outputs": [
    {
     "data": {
      "text/html": [
       "<div>\n",
       "<style scoped>\n",
       "    .dataframe tbody tr th:only-of-type {\n",
       "        vertical-align: middle;\n",
       "    }\n",
       "\n",
       "    .dataframe tbody tr th {\n",
       "        vertical-align: top;\n",
       "    }\n",
       "\n",
       "    .dataframe thead th {\n",
       "        text-align: right;\n",
       "    }\n",
       "</style>\n",
       "<table border=\"1\" class=\"dataframe\">\n",
       "  <thead>\n",
       "    <tr style=\"text-align: right;\">\n",
       "      <th></th>\n",
       "      <th>id</th>\n",
       "      <th>resort</th>\n",
       "      <th>latitude</th>\n",
       "      <th>longitude</th>\n",
       "      <th>country</th>\n",
       "      <th>continent</th>\n",
       "      <th>price</th>\n",
       "      <th>highest_point</th>\n",
       "      <th>lowest_point</th>\n",
       "      <th>beginner_slope</th>\n",
       "      <th>...</th>\n",
       "      <th>chair_lifts</th>\n",
       "      <th>gondola_lifts</th>\n",
       "      <th>total_lifts</th>\n",
       "      <th>lift_capacity</th>\n",
       "      <th>child_friendly</th>\n",
       "      <th>snowparks</th>\n",
       "      <th>nightskiing</th>\n",
       "      <th>summer_skiing</th>\n",
       "      <th>start_season</th>\n",
       "      <th>end_season</th>\n",
       "    </tr>\n",
       "  </thead>\n",
       "  <tbody>\n",
       "    <tr>\n",
       "      <th>0</th>\n",
       "      <td>1</td>\n",
       "      <td>Hemsedal</td>\n",
       "      <td>60.928244</td>\n",
       "      <td>8.383487</td>\n",
       "      <td>Norway</td>\n",
       "      <td>Europe</td>\n",
       "      <td>46</td>\n",
       "      <td>1450</td>\n",
       "      <td>620</td>\n",
       "      <td>29</td>\n",
       "      <td>...</td>\n",
       "      <td>6</td>\n",
       "      <td>0</td>\n",
       "      <td>21</td>\n",
       "      <td>22921</td>\n",
       "      <td>Yes</td>\n",
       "      <td>Yes</td>\n",
       "      <td>Yes</td>\n",
       "      <td>No</td>\n",
       "      <td>November</td>\n",
       "      <td>May</td>\n",
       "    </tr>\n",
       "    <tr>\n",
       "      <th>1</th>\n",
       "      <td>2</td>\n",
       "      <td>Geilosiden Geilo</td>\n",
       "      <td>60.534526</td>\n",
       "      <td>8.206372</td>\n",
       "      <td>Norway</td>\n",
       "      <td>Europe</td>\n",
       "      <td>44</td>\n",
       "      <td>1178</td>\n",
       "      <td>800</td>\n",
       "      <td>18</td>\n",
       "      <td>...</td>\n",
       "      <td>6</td>\n",
       "      <td>0</td>\n",
       "      <td>24</td>\n",
       "      <td>14225</td>\n",
       "      <td>Yes</td>\n",
       "      <td>Yes</td>\n",
       "      <td>Yes</td>\n",
       "      <td>No</td>\n",
       "      <td>November</td>\n",
       "      <td>April</td>\n",
       "    </tr>\n",
       "    <tr>\n",
       "      <th>2</th>\n",
       "      <td>3</td>\n",
       "      <td>Golm</td>\n",
       "      <td>47.057810</td>\n",
       "      <td>9.828167</td>\n",
       "      <td>Austria</td>\n",
       "      <td>Europe</td>\n",
       "      <td>48</td>\n",
       "      <td>2110</td>\n",
       "      <td>650</td>\n",
       "      <td>13</td>\n",
       "      <td>...</td>\n",
       "      <td>4</td>\n",
       "      <td>3</td>\n",
       "      <td>11</td>\n",
       "      <td>16240</td>\n",
       "      <td>Yes</td>\n",
       "      <td>No</td>\n",
       "      <td>No</td>\n",
       "      <td>No</td>\n",
       "      <td>December</td>\n",
       "      <td>April</td>\n",
       "    </tr>\n",
       "    <tr>\n",
       "      <th>3</th>\n",
       "      <td>4</td>\n",
       "      <td>Red Mountain Resort-Rossland</td>\n",
       "      <td>49.105520</td>\n",
       "      <td>-117.846280</td>\n",
       "      <td>Canada</td>\n",
       "      <td>North America</td>\n",
       "      <td>60</td>\n",
       "      <td>2075</td>\n",
       "      <td>1185</td>\n",
       "      <td>20</td>\n",
       "      <td>...</td>\n",
       "      <td>5</td>\n",
       "      <td>1</td>\n",
       "      <td>8</td>\n",
       "      <td>9200</td>\n",
       "      <td>Yes</td>\n",
       "      <td>Yes</td>\n",
       "      <td>Yes</td>\n",
       "      <td>No</td>\n",
       "      <td>December</td>\n",
       "      <td>April</td>\n",
       "    </tr>\n",
       "    <tr>\n",
       "      <th>4</th>\n",
       "      <td>5</td>\n",
       "      <td>Hafjell</td>\n",
       "      <td>61.230369</td>\n",
       "      <td>10.529014</td>\n",
       "      <td>Norway</td>\n",
       "      <td>Europe</td>\n",
       "      <td>45</td>\n",
       "      <td>1030</td>\n",
       "      <td>195</td>\n",
       "      <td>33</td>\n",
       "      <td>...</td>\n",
       "      <td>3</td>\n",
       "      <td>1</td>\n",
       "      <td>18</td>\n",
       "      <td>21060</td>\n",
       "      <td>Yes</td>\n",
       "      <td>Yes</td>\n",
       "      <td>Yes</td>\n",
       "      <td>No</td>\n",
       "      <td>November</td>\n",
       "      <td>April</td>\n",
       "    </tr>\n",
       "  </tbody>\n",
       "</table>\n",
       "<p>5 rows × 26 columns</p>\n",
       "</div>"
      ],
      "text/plain": [
       "   id                        resort   latitude   longitude  country  \\\n",
       "0   1                      Hemsedal  60.928244    8.383487   Norway   \n",
       "1   2              Geilosiden Geilo  60.534526    8.206372   Norway   \n",
       "2   3                          Golm  47.057810    9.828167  Austria   \n",
       "3   4  Red Mountain Resort-Rossland  49.105520 -117.846280   Canada   \n",
       "4   5                       Hafjell  61.230369   10.529014   Norway   \n",
       "\n",
       "       continent  price  highest_point  lowest_point  beginner_slope  ...  \\\n",
       "0         Europe     46           1450           620              29  ...   \n",
       "1         Europe     44           1178           800              18  ...   \n",
       "2         Europe     48           2110           650              13  ...   \n",
       "3  North America     60           2075          1185              20  ...   \n",
       "4         Europe     45           1030           195              33  ...   \n",
       "\n",
       "   chair_lifts  gondola_lifts  total_lifts  lift_capacity  child_friendly  \\\n",
       "0            6              0           21          22921             Yes   \n",
       "1            6              0           24          14225             Yes   \n",
       "2            4              3           11          16240             Yes   \n",
       "3            5              1            8           9200             Yes   \n",
       "4            3              1           18          21060             Yes   \n",
       "\n",
       "   snowparks  nightskiing  summer_skiing  start_season  end_season  \n",
       "0        Yes          Yes             No      November         May  \n",
       "1        Yes          Yes             No      November       April  \n",
       "2         No           No             No      December       April  \n",
       "3        Yes          Yes             No      December       April  \n",
       "4        Yes          Yes             No      November       April  \n",
       "\n",
       "[5 rows x 26 columns]"
      ]
     },
     "execution_count": 12,
     "metadata": {},
     "output_type": "execute_result"
    }
   ],
   "source": [
    "df.head(5)"
   ]
  },
  {
   "cell_type": "code",
   "execution_count": 13,
   "id": "e7c62651",
   "metadata": {},
   "outputs": [
    {
     "data": {
      "text/plain": [
       "id                      int64\n",
       "resort                 object\n",
       "latitude              float64\n",
       "longitude             float64\n",
       "country                object\n",
       "continent              object\n",
       "price                   int64\n",
       "highest_point           int64\n",
       "lowest_point            int64\n",
       "beginner_slope          int64\n",
       "intermediate_slope      int64\n",
       "difficult_slope         int64\n",
       "total_slope             int64\n",
       "longest_run             int64\n",
       "snow_cannons            int64\n",
       "surface_lifts           int64\n",
       "chair_lifts             int64\n",
       "gondola_lifts           int64\n",
       "total_lifts             int64\n",
       "lift_capacity           int64\n",
       "child_friendly         object\n",
       "snowparks              object\n",
       "nightskiing            object\n",
       "summer_skiing          object\n",
       "start_season           object\n",
       "end_season             object\n",
       "dtype: object"
      ]
     },
     "execution_count": 13,
     "metadata": {},
     "output_type": "execute_result"
    }
   ],
   "source": [
    "df.dtypes"
   ]
  },
  {
   "cell_type": "markdown",
   "id": "8cc4a651",
   "metadata": {},
   "source": [
    "1. Which countries have the most ski resorts? Are there any groups that stand out?"
   ]
  },
  {
   "cell_type": "code",
   "execution_count": 14,
   "id": "a0c9c959",
   "metadata": {},
   "outputs": [],
   "source": [
    "sql2 = '''\n",
    "SELECT country as negara,\n",
    "COUNT(*) AS total_wisata_ski\n",
    "\n",
    "FROM resorts\n",
    "GROUP BY country\n",
    "ORDER BY total_wisata_ski DESC;\n",
    "'''"
   ]
  },
  {
   "cell_type": "code",
   "execution_count": 15,
   "id": "b7d0ecfb",
   "metadata": {},
   "outputs": [],
   "source": [
    "sql_3 = '''\n",
    "SELECT continent, COUNT(*) AS total_wisata_ski\n",
    "FROM resorts\n",
    "GROUP BY continent\n",
    "ORDER BY total_wisata_ski DESC;\n",
    "'''"
   ]
  },
  {
   "cell_type": "code",
   "execution_count": 16,
   "id": "38883b32",
   "metadata": {},
   "outputs": [
    {
     "data": {
      "application/javascript": [
       "\n",
       "        if (window._pyforest_update_imports_cell) { window._pyforest_update_imports_cell('import pandas as pd'); }\n",
       "    "
      ],
      "text/plain": [
       "<IPython.core.display.Javascript object>"
      ]
     },
     "metadata": {},
     "output_type": "display_data"
    }
   ],
   "source": [
    "negara_resort = pd.read_sql_query(sql2, koneksi)"
   ]
  },
  {
   "cell_type": "code",
   "execution_count": 110,
   "id": "ba854e91",
   "metadata": {},
   "outputs": [
    {
     "data": {
      "text/html": [
       "<div>\n",
       "<style scoped>\n",
       "    .dataframe tbody tr th:only-of-type {\n",
       "        vertical-align: middle;\n",
       "    }\n",
       "\n",
       "    .dataframe tbody tr th {\n",
       "        vertical-align: top;\n",
       "    }\n",
       "\n",
       "    .dataframe thead th {\n",
       "        text-align: right;\n",
       "    }\n",
       "</style>\n",
       "<table border=\"1\" class=\"dataframe\">\n",
       "  <thead>\n",
       "    <tr style=\"text-align: right;\">\n",
       "      <th></th>\n",
       "      <th>negara</th>\n",
       "      <th>total_wisata_ski</th>\n",
       "    </tr>\n",
       "  </thead>\n",
       "  <tbody>\n",
       "    <tr>\n",
       "      <th>0</th>\n",
       "      <td>Austria</td>\n",
       "      <td>81</td>\n",
       "    </tr>\n",
       "    <tr>\n",
       "      <th>1</th>\n",
       "      <td>France</td>\n",
       "      <td>75</td>\n",
       "    </tr>\n",
       "    <tr>\n",
       "      <th>2</th>\n",
       "      <td>United States</td>\n",
       "      <td>74</td>\n",
       "    </tr>\n",
       "    <tr>\n",
       "      <th>3</th>\n",
       "      <td>Switzerland</td>\n",
       "      <td>54</td>\n",
       "    </tr>\n",
       "    <tr>\n",
       "      <th>4</th>\n",
       "      <td>Italy</td>\n",
       "      <td>42</td>\n",
       "    </tr>\n",
       "  </tbody>\n",
       "</table>\n",
       "</div>"
      ],
      "text/plain": [
       "          negara  total_wisata_ski\n",
       "0        Austria                81\n",
       "1         France                75\n",
       "2  United States                74\n",
       "3    Switzerland                54\n",
       "4          Italy                42"
      ]
     },
     "execution_count": 110,
     "metadata": {},
     "output_type": "execute_result"
    }
   ],
   "source": [
    "negara_resorts = negara_resort.head(5)\n",
    "negara_resorts"
   ]
  },
  {
   "cell_type": "code",
   "execution_count": 18,
   "id": "52af62c5",
   "metadata": {},
   "outputs": [
    {
     "data": {
      "application/javascript": [
       "\n",
       "        if (window._pyforest_update_imports_cell) { window._pyforest_update_imports_cell('import pandas as pd'); }\n",
       "    "
      ],
      "text/plain": [
       "<IPython.core.display.Javascript object>"
      ]
     },
     "metadata": {},
     "output_type": "display_data"
    },
    {
     "data": {
      "text/html": [
       "<div>\n",
       "<style scoped>\n",
       "    .dataframe tbody tr th:only-of-type {\n",
       "        vertical-align: middle;\n",
       "    }\n",
       "\n",
       "    .dataframe tbody tr th {\n",
       "        vertical-align: top;\n",
       "    }\n",
       "\n",
       "    .dataframe thead th {\n",
       "        text-align: right;\n",
       "    }\n",
       "</style>\n",
       "<table border=\"1\" class=\"dataframe\">\n",
       "  <thead>\n",
       "    <tr style=\"text-align: right;\">\n",
       "      <th></th>\n",
       "      <th>continent</th>\n",
       "      <th>total_wisata_ski</th>\n",
       "    </tr>\n",
       "  </thead>\n",
       "  <tbody>\n",
       "    <tr>\n",
       "      <th>0</th>\n",
       "      <td>Europe</td>\n",
       "      <td>326</td>\n",
       "    </tr>\n",
       "    <tr>\n",
       "      <th>1</th>\n",
       "      <td>North America</td>\n",
       "      <td>93</td>\n",
       "    </tr>\n",
       "    <tr>\n",
       "      <th>2</th>\n",
       "      <td>Asia</td>\n",
       "      <td>17</td>\n",
       "    </tr>\n",
       "    <tr>\n",
       "      <th>3</th>\n",
       "      <td>Oceania</td>\n",
       "      <td>10</td>\n",
       "    </tr>\n",
       "    <tr>\n",
       "      <th>4</th>\n",
       "      <td>South America</td>\n",
       "      <td>7</td>\n",
       "    </tr>\n",
       "  </tbody>\n",
       "</table>\n",
       "</div>"
      ],
      "text/plain": [
       "       continent  total_wisata_ski\n",
       "0         Europe               326\n",
       "1  North America                93\n",
       "2           Asia                17\n",
       "3        Oceania                10\n",
       "4  South America                 7"
      ]
     },
     "execution_count": 18,
     "metadata": {},
     "output_type": "execute_result"
    }
   ],
   "source": [
    "negara_resorts_kontinen = pd.read_sql_query(sql_3, koneksi)\n",
    "negara_resorts_kontinen = negara_resorts_kontinen\n",
    "negara_resorts_kontinen"
   ]
  },
  {
   "cell_type": "code",
   "execution_count": 111,
   "id": "86373d2d",
   "metadata": {},
   "outputs": [
    {
     "data": {
      "application/javascript": [
       "\n",
       "        if (window._pyforest_update_imports_cell) { window._pyforest_update_imports_cell('import pandas as pd\\nimport matplotlib.pyplot as plt'); }\n",
       "    "
      ],
      "text/plain": [
       "<IPython.core.display.Javascript object>"
      ]
     },
     "metadata": {},
     "output_type": "display_data"
    },
    {
     "data": {
      "application/javascript": [
       "\n",
       "        if (window._pyforest_update_imports_cell) { window._pyforest_update_imports_cell('import pandas as pd\\nimport matplotlib.pyplot as plt'); }\n",
       "    "
      ],
      "text/plain": [
       "<IPython.core.display.Javascript object>"
      ]
     },
     "metadata": {},
     "output_type": "display_data"
    },
    {
     "data": {
      "application/javascript": [
       "\n",
       "        if (window._pyforest_update_imports_cell) { window._pyforest_update_imports_cell('import pandas as pd\\nimport matplotlib.pyplot as plt'); }\n",
       "    "
      ],
      "text/plain": [
       "<IPython.core.display.Javascript object>"
      ]
     },
     "metadata": {},
     "output_type": "display_data"
    },
    {
     "data": {
      "application/javascript": [
       "\n",
       "        if (window._pyforest_update_imports_cell) { window._pyforest_update_imports_cell('import pandas as pd\\nimport matplotlib.pyplot as plt'); }\n",
       "    "
      ],
      "text/plain": [
       "<IPython.core.display.Javascript object>"
      ]
     },
     "metadata": {},
     "output_type": "display_data"
    },
    {
     "data": {
      "application/javascript": [
       "\n",
       "        if (window._pyforest_update_imports_cell) { window._pyforest_update_imports_cell('import pandas as pd\\nimport matplotlib.pyplot as plt'); }\n",
       "    "
      ],
      "text/plain": [
       "<IPython.core.display.Javascript object>"
      ]
     },
     "metadata": {},
     "output_type": "display_data"
    },
    {
     "data": {
      "application/javascript": [
       "\n",
       "        if (window._pyforest_update_imports_cell) { window._pyforest_update_imports_cell('import pandas as pd\\nimport matplotlib.pyplot as plt'); }\n",
       "    "
      ],
      "text/plain": [
       "<IPython.core.display.Javascript object>"
      ]
     },
     "metadata": {},
     "output_type": "display_data"
    },
    {
     "data": {
      "application/javascript": [
       "\n",
       "        if (window._pyforest_update_imports_cell) { window._pyforest_update_imports_cell('import pandas as pd\\nimport matplotlib.pyplot as plt'); }\n",
       "    "
      ],
      "text/plain": [
       "<IPython.core.display.Javascript object>"
      ]
     },
     "metadata": {},
     "output_type": "display_data"
    },
    {
     "data": {
      "application/javascript": [
       "\n",
       "        if (window._pyforest_update_imports_cell) { window._pyforest_update_imports_cell('import pandas as pd\\nimport matplotlib.pyplot as plt'); }\n",
       "    "
      ],
      "text/plain": [
       "<IPython.core.display.Javascript object>"
      ]
     },
     "metadata": {},
     "output_type": "display_data"
    },
    {
     "data": {
      "application/javascript": [
       "\n",
       "        if (window._pyforest_update_imports_cell) { window._pyforest_update_imports_cell('import pandas as pd\\nimport matplotlib.pyplot as plt'); }\n",
       "    "
      ],
      "text/plain": [
       "<IPython.core.display.Javascript object>"
      ]
     },
     "metadata": {},
     "output_type": "display_data"
    },
    {
     "data": {
      "application/javascript": [
       "\n",
       "        if (window._pyforest_update_imports_cell) { window._pyforest_update_imports_cell('import pandas as pd\\nimport matplotlib.pyplot as plt'); }\n",
       "    "
      ],
      "text/plain": [
       "<IPython.core.display.Javascript object>"
      ]
     },
     "metadata": {},
     "output_type": "display_data"
    },
    {
     "data": {
      "application/javascript": [
       "\n",
       "        if (window._pyforest_update_imports_cell) { window._pyforest_update_imports_cell('import pandas as pd\\nimport matplotlib.pyplot as plt'); }\n",
       "    "
      ],
      "text/plain": [
       "<IPython.core.display.Javascript object>"
      ]
     },
     "metadata": {},
     "output_type": "display_data"
    },
    {
     "data": {
      "application/javascript": [
       "\n",
       "        if (window._pyforest_update_imports_cell) { window._pyforest_update_imports_cell('import pandas as pd\\nimport matplotlib.pyplot as plt'); }\n",
       "    "
      ],
      "text/plain": [
       "<IPython.core.display.Javascript object>"
      ]
     },
     "metadata": {},
     "output_type": "display_data"
    },
    {
     "data": {
      "application/javascript": [
       "\n",
       "        if (window._pyforest_update_imports_cell) { window._pyforest_update_imports_cell('import pandas as pd\\nimport matplotlib.pyplot as plt'); }\n",
       "    "
      ],
      "text/plain": [
       "<IPython.core.display.Javascript object>"
      ]
     },
     "metadata": {},
     "output_type": "display_data"
    },
    {
     "data": {
      "application/javascript": [
       "\n",
       "        if (window._pyforest_update_imports_cell) { window._pyforest_update_imports_cell('import pandas as pd\\nimport matplotlib.pyplot as plt'); }\n",
       "    "
      ],
      "text/plain": [
       "<IPython.core.display.Javascript object>"
      ]
     },
     "metadata": {},
     "output_type": "display_data"
    },
    {
     "data": {
      "application/javascript": [
       "\n",
       "        if (window._pyforest_update_imports_cell) { window._pyforest_update_imports_cell('import pandas as pd\\nimport matplotlib.pyplot as plt'); }\n",
       "    "
      ],
      "text/plain": [
       "<IPython.core.display.Javascript object>"
      ]
     },
     "metadata": {},
     "output_type": "display_data"
    },
    {
     "data": {
      "image/png": "[encoded data removed]",
      "text/plain": [
       "<Figure size 1400x600 with 2 Axes>"
      ]
     },
     "metadata": {},
     "output_type": "display_data"
    }
   ],
   "source": [
    "plt.figure(figsize=(14, 6))\n",
    "\n",
    "plt.subplot(1, 2, 1) #bagian kiri\n",
    "plt.barh(negara_resorts['negara'], negara_resorts['total_wisata_ski'], color='skyblue')\n",
    "plt.xlabel('Jumlah Resort Ski')\n",
    "plt.ylabel('Negara')\n",
    "plt.title('Top 5 Negara dengan jumlah resort terbanyak')\n",
    "plt.gca().invert_yaxis()\n",
    "\n",
    "plt.subplot(1, 2, 2) #bagian kanan\n",
    "\n",
    "plt.barh(negara_resorts_kontinen['continent'], negara_resorts_kontinen['total_wisata_ski'], color='lightgreen')\n",
    "plt.xlabel('Jumlah Resort Ski')\n",
    "plt.ylabel('Benua')\n",
    "plt.title('Top 5 Benua dengan jumlah resort terbanyak')\n",
    "plt.gca().invert_yaxis()\n",
    "\n",
    "plt.tight_layout()\n",
    "plt.show()\n"
   ]
  },
  {
   "cell_type": "markdown",
   "id": "d1d56c09",
   "metadata": {},
   "source": [
    "Berdasarkan kueri dengan menggunakan fungsi COUNT dan juga GROUP BY beserta hasil visualisasi yang dihasilkan diatas. Negara Austria, Prancis, dan Amerika itu menjadi negara yang memiliki wisata atau resort olahraga salju atau selancar salju Ski terbanyak di Dunia. Hal ini dibuktikan pada visualisasi jumlah wisata atau resort Ski yang terbanyak itu ada di benua Europa dan North America, dikarenakan benua tersebut memang memiliki 4 musim dan banyaknya apresiasi masyarakat dalam mengikuti olahraga salju tersebut."
   ]
  },
  {
   "cell_type": "markdown",
   "id": "ea27324d",
   "metadata": {},
   "source": [
    "2. How does the ski season vary by location? Does the snow cover reflect this?"
   ]
  },
  {
   "cell_type": "code",
   "execution_count": 20,
   "id": "bf44bbc7",
   "metadata": {},
   "outputs": [],
   "source": [
    "sql4 = '''\n",
    "-- Mengidentifikasi musim ski berdasarkan bulan awal dan bulan akhir dari tabel resorts\n",
    "WITH identified_seasons AS (\n",
    "    SELECT\n",
    "        country,\n",
    "        CASE\n",
    "            WHEN start_season IN ('November', 'December', 'January') AND end_season IN ('February', 'March', 'April', 'May') THEN 'Winter'\n",
    "            WHEN start_season IN ('December', 'January', 'February') AND end_season IN ('March', 'April', 'May') THEN 'Late Winter'\n",
    "            WHEN start_season IN ('November', 'December', 'January', 'February', 'March') AND end_season IN ('April', 'May') THEN 'Early Spring'\n",
    "            ELSE 'Other'\n",
    "        END AS ski_season\n",
    "    FROM\n",
    "        resorts\n",
    "),\n",
    "-- Menghitung jumlah resort untuk setiap ski_season di setiap negara\n",
    "resort_counts AS (\n",
    "    SELECT\n",
    "        country,\n",
    "        ski_season,\n",
    "        COUNT(*) AS resort_count\n",
    "    FROM\n",
    "        identified_seasons\n",
    "    GROUP BY\n",
    "        country, ski_season\n",
    ")\n",
    "-- Menampilkan hasil penghitungan\n",
    "SELECT\n",
    "    country,\n",
    "    ski_season,\n",
    "    resort_count\n",
    "FROM\n",
    "    resort_counts;\n",
    "\n",
    "'''"
   ]
  },
  {
   "cell_type": "code",
   "execution_count": 112,
   "id": "23532942",
   "metadata": {},
   "outputs": [
    {
     "data": {
      "application/javascript": [
       "\n",
       "        if (window._pyforest_update_imports_cell) { window._pyforest_update_imports_cell('import pandas as pd\\nimport matplotlib.pyplot as plt'); }\n",
       "    "
      ],
      "text/plain": [
       "<IPython.core.display.Javascript object>"
      ]
     },
     "metadata": {},
     "output_type": "display_data"
    },
    {
     "data": {
      "text/html": [
       "<div>\n",
       "<style scoped>\n",
       "    .dataframe tbody tr th:only-of-type {\n",
       "        vertical-align: middle;\n",
       "    }\n",
       "\n",
       "    .dataframe tbody tr th {\n",
       "        vertical-align: top;\n",
       "    }\n",
       "\n",
       "    .dataframe thead th {\n",
       "        text-align: right;\n",
       "    }\n",
       "</style>\n",
       "<table border=\"1\" class=\"dataframe\">\n",
       "  <thead>\n",
       "    <tr style=\"text-align: right;\">\n",
       "      <th></th>\n",
       "      <th>country</th>\n",
       "      <th>ski_season</th>\n",
       "      <th>resort_count</th>\n",
       "    </tr>\n",
       "  </thead>\n",
       "  <tbody>\n",
       "    <tr>\n",
       "      <th>0</th>\n",
       "      <td>Finland</td>\n",
       "      <td>Winter</td>\n",
       "      <td>2</td>\n",
       "    </tr>\n",
       "    <tr>\n",
       "      <th>1</th>\n",
       "      <td>Switzerland</td>\n",
       "      <td>Winter</td>\n",
       "      <td>49</td>\n",
       "    </tr>\n",
       "    <tr>\n",
       "      <th>2</th>\n",
       "      <td>United States</td>\n",
       "      <td>Other</td>\n",
       "      <td>4</td>\n",
       "    </tr>\n",
       "    <tr>\n",
       "      <th>3</th>\n",
       "      <td>Georgia</td>\n",
       "      <td>Winter</td>\n",
       "      <td>1</td>\n",
       "    </tr>\n",
       "    <tr>\n",
       "      <th>4</th>\n",
       "      <td>Japan</td>\n",
       "      <td>Winter</td>\n",
       "      <td>10</td>\n",
       "    </tr>\n",
       "    <tr>\n",
       "      <th>5</th>\n",
       "      <td>Czech Republic</td>\n",
       "      <td>Winter</td>\n",
       "      <td>2</td>\n",
       "    </tr>\n",
       "    <tr>\n",
       "      <th>6</th>\n",
       "      <td>Italy</td>\n",
       "      <td>Winter</td>\n",
       "      <td>40</td>\n",
       "    </tr>\n",
       "    <tr>\n",
       "      <th>7</th>\n",
       "      <td>Argentina</td>\n",
       "      <td>Other</td>\n",
       "      <td>2</td>\n",
       "    </tr>\n",
       "    <tr>\n",
       "      <th>8</th>\n",
       "      <td>Ukraine</td>\n",
       "      <td>Winter</td>\n",
       "      <td>1</td>\n",
       "    </tr>\n",
       "    <tr>\n",
       "      <th>9</th>\n",
       "      <td>Australia</td>\n",
       "      <td>Other</td>\n",
       "      <td>5</td>\n",
       "    </tr>\n",
       "    <tr>\n",
       "      <th>10</th>\n",
       "      <td>Russia</td>\n",
       "      <td>Winter</td>\n",
       "      <td>4</td>\n",
       "    </tr>\n",
       "    <tr>\n",
       "      <th>11</th>\n",
       "      <td>Liechtenstein</td>\n",
       "      <td>Winter</td>\n",
       "      <td>1</td>\n",
       "    </tr>\n",
       "    <tr>\n",
       "      <th>12</th>\n",
       "      <td>United Kingdom</td>\n",
       "      <td>Winter</td>\n",
       "      <td>4</td>\n",
       "    </tr>\n",
       "    <tr>\n",
       "      <th>13</th>\n",
       "      <td>Spain</td>\n",
       "      <td>Winter</td>\n",
       "      <td>6</td>\n",
       "    </tr>\n",
       "    <tr>\n",
       "      <th>14</th>\n",
       "      <td>Andorra</td>\n",
       "      <td>Winter</td>\n",
       "      <td>5</td>\n",
       "    </tr>\n",
       "    <tr>\n",
       "      <th>15</th>\n",
       "      <td>Iran</td>\n",
       "      <td>Winter</td>\n",
       "      <td>1</td>\n",
       "    </tr>\n",
       "    <tr>\n",
       "      <th>16</th>\n",
       "      <td>Norway</td>\n",
       "      <td>Winter</td>\n",
       "      <td>6</td>\n",
       "    </tr>\n",
       "    <tr>\n",
       "      <th>17</th>\n",
       "      <td>South Korea</td>\n",
       "      <td>Winter</td>\n",
       "      <td>2</td>\n",
       "    </tr>\n",
       "    <tr>\n",
       "      <th>18</th>\n",
       "      <td>Slovenia</td>\n",
       "      <td>Winter</td>\n",
       "      <td>4</td>\n",
       "    </tr>\n",
       "    <tr>\n",
       "      <th>19</th>\n",
       "      <td>United States</td>\n",
       "      <td>Winter</td>\n",
       "      <td>70</td>\n",
       "    </tr>\n",
       "    <tr>\n",
       "      <th>20</th>\n",
       "      <td>Italy</td>\n",
       "      <td>Other</td>\n",
       "      <td>2</td>\n",
       "    </tr>\n",
       "    <tr>\n",
       "      <th>21</th>\n",
       "      <td>Bulgaria</td>\n",
       "      <td>Winter</td>\n",
       "      <td>4</td>\n",
       "    </tr>\n",
       "    <tr>\n",
       "      <th>22</th>\n",
       "      <td>Germany</td>\n",
       "      <td>Winter</td>\n",
       "      <td>19</td>\n",
       "    </tr>\n",
       "    <tr>\n",
       "      <th>23</th>\n",
       "      <td>France</td>\n",
       "      <td>Other</td>\n",
       "      <td>1</td>\n",
       "    </tr>\n",
       "    <tr>\n",
       "      <th>24</th>\n",
       "      <td>Norway</td>\n",
       "      <td>Other</td>\n",
       "      <td>3</td>\n",
       "    </tr>\n",
       "    <tr>\n",
       "      <th>25</th>\n",
       "      <td>Romania</td>\n",
       "      <td>Winter</td>\n",
       "      <td>1</td>\n",
       "    </tr>\n",
       "    <tr>\n",
       "      <th>26</th>\n",
       "      <td>Serbia</td>\n",
       "      <td>Winter</td>\n",
       "      <td>1</td>\n",
       "    </tr>\n",
       "    <tr>\n",
       "      <th>27</th>\n",
       "      <td>Chile</td>\n",
       "      <td>Other</td>\n",
       "      <td>5</td>\n",
       "    </tr>\n",
       "    <tr>\n",
       "      <th>28</th>\n",
       "      <td>Slovakia</td>\n",
       "      <td>Winter</td>\n",
       "      <td>4</td>\n",
       "    </tr>\n",
       "    <tr>\n",
       "      <th>29</th>\n",
       "      <td>New Zealand</td>\n",
       "      <td>Other</td>\n",
       "      <td>5</td>\n",
       "    </tr>\n",
       "    <tr>\n",
       "      <th>30</th>\n",
       "      <td>Sweden</td>\n",
       "      <td>Other</td>\n",
       "      <td>1</td>\n",
       "    </tr>\n",
       "    <tr>\n",
       "      <th>31</th>\n",
       "      <td>Sweden</td>\n",
       "      <td>Winter</td>\n",
       "      <td>3</td>\n",
       "    </tr>\n",
       "    <tr>\n",
       "      <th>32</th>\n",
       "      <td>Finland</td>\n",
       "      <td>Other</td>\n",
       "      <td>1</td>\n",
       "    </tr>\n",
       "    <tr>\n",
       "      <th>33</th>\n",
       "      <td>Canada</td>\n",
       "      <td>Winter</td>\n",
       "      <td>19</td>\n",
       "    </tr>\n",
       "    <tr>\n",
       "      <th>34</th>\n",
       "      <td>Austria</td>\n",
       "      <td>Other</td>\n",
       "      <td>6</td>\n",
       "    </tr>\n",
       "    <tr>\n",
       "      <th>35</th>\n",
       "      <td>China</td>\n",
       "      <td>Winter</td>\n",
       "      <td>1</td>\n",
       "    </tr>\n",
       "    <tr>\n",
       "      <th>36</th>\n",
       "      <td>Turkey</td>\n",
       "      <td>Winter</td>\n",
       "      <td>2</td>\n",
       "    </tr>\n",
       "    <tr>\n",
       "      <th>37</th>\n",
       "      <td>Poland</td>\n",
       "      <td>Winter</td>\n",
       "      <td>2</td>\n",
       "    </tr>\n",
       "    <tr>\n",
       "      <th>38</th>\n",
       "      <td>Austria</td>\n",
       "      <td>Winter</td>\n",
       "      <td>75</td>\n",
       "    </tr>\n",
       "    <tr>\n",
       "      <th>39</th>\n",
       "      <td>France</td>\n",
       "      <td>Winter</td>\n",
       "      <td>74</td>\n",
       "    </tr>\n",
       "    <tr>\n",
       "      <th>40</th>\n",
       "      <td>Switzerland</td>\n",
       "      <td>Other</td>\n",
       "      <td>5</td>\n",
       "    </tr>\n",
       "  </tbody>\n",
       "</table>\n",
       "</div>"
      ],
      "text/plain": [
       "           country ski_season  resort_count\n",
       "0          Finland     Winter             2\n",
       "1      Switzerland     Winter            49\n",
       "2    United States      Other             4\n",
       "3          Georgia     Winter             1\n",
       "4            Japan     Winter            10\n",
       "5   Czech Republic     Winter             2\n",
       "6            Italy     Winter            40\n",
       "7        Argentina      Other             2\n",
       "8          Ukraine     Winter             1\n",
       "9        Australia      Other             5\n",
       "10          Russia     Winter             4\n",
       "11   Liechtenstein     Winter             1\n",
       "12  United Kingdom     Winter             4\n",
       "13           Spain     Winter             6\n",
       "14         Andorra     Winter             5\n",
       "15            Iran     Winter             1\n",
       "16          Norway     Winter             6\n",
       "17     South Korea     Winter             2\n",
       "18        Slovenia     Winter             4\n",
       "19   United States     Winter            70\n",
       "20           Italy      Other             2\n",
       "21        Bulgaria     Winter             4\n",
       "22         Germany     Winter            19\n",
       "23          France      Other             1\n",
       "24          Norway      Other             3\n",
       "25         Romania     Winter             1\n",
       "26          Serbia     Winter             1\n",
       "27           Chile      Other             5\n",
       "28        Slovakia     Winter             4\n",
       "29     New Zealand      Other             5\n",
       "30          Sweden      Other             1\n",
       "31          Sweden     Winter             3\n",
       "32         Finland      Other             1\n",
       "33          Canada     Winter            19\n",
       "34         Austria      Other             6\n",
       "35           China     Winter             1\n",
       "36          Turkey     Winter             2\n",
       "37          Poland     Winter             2\n",
       "38         Austria     Winter            75\n",
       "39          France     Winter            74\n",
       "40     Switzerland      Other             5"
      ]
     },
     "execution_count": 112,
     "metadata": {},
     "output_type": "execute_result"
    }
   ],
   "source": [
    "ski_seasons = pd.read_sql_query(sql4, koneksi)\n",
    "ski_seasons"
   ]
  },
  {
   "cell_type": "code",
   "execution_count": null,
   "id": "b69c6d93",
   "metadata": {},
   "outputs": [],
   "source": []
  },
  {
   "cell_type": "code",
   "execution_count": 55,
   "id": "a6823ce0",
   "metadata": {},
   "outputs": [
    {
     "data": {
      "application/javascript": [
       "\n",
       "        if (window._pyforest_update_imports_cell) { window._pyforest_update_imports_cell('import pandas as pd\\nimport matplotlib.pyplot as plt'); }\n",
       "    "
      ],
      "text/plain": [
       "<IPython.core.display.Javascript object>"
      ]
     },
     "metadata": {},
     "output_type": "display_data"
    },
    {
     "data": {
      "application/javascript": [
       "\n",
       "        if (window._pyforest_update_imports_cell) { window._pyforest_update_imports_cell('import pandas as pd\\nimport matplotlib.pyplot as plt'); }\n",
       "    "
      ],
      "text/plain": [
       "<IPython.core.display.Javascript object>"
      ]
     },
     "metadata": {},
     "output_type": "display_data"
    },
    {
     "data": {
      "application/javascript": [
       "\n",
       "        if (window._pyforest_update_imports_cell) { window._pyforest_update_imports_cell('import pandas as pd\\nimport matplotlib.pyplot as plt'); }\n",
       "    "
      ],
      "text/plain": [
       "<IPython.core.display.Javascript object>"
      ]
     },
     "metadata": {},
     "output_type": "display_data"
    },
    {
     "data": {
      "application/javascript": [
       "\n",
       "        if (window._pyforest_update_imports_cell) { window._pyforest_update_imports_cell('import pandas as pd\\nimport matplotlib.pyplot as plt'); }\n",
       "    "
      ],
      "text/plain": [
       "<IPython.core.display.Javascript object>"
      ]
     },
     "metadata": {},
     "output_type": "display_data"
    },
    {
     "data": {
      "application/javascript": [
       "\n",
       "        if (window._pyforest_update_imports_cell) { window._pyforest_update_imports_cell('import pandas as pd\\nimport matplotlib.pyplot as plt'); }\n",
       "    "
      ],
      "text/plain": [
       "<IPython.core.display.Javascript object>"
      ]
     },
     "metadata": {},
     "output_type": "display_data"
    },
    {
     "data": {
      "application/javascript": [
       "\n",
       "        if (window._pyforest_update_imports_cell) { window._pyforest_update_imports_cell('import pandas as pd\\nimport matplotlib.pyplot as plt'); }\n",
       "    "
      ],
      "text/plain": [
       "<IPython.core.display.Javascript object>"
      ]
     },
     "metadata": {},
     "output_type": "display_data"
    },
    {
     "data": {
      "application/javascript": [
       "\n",
       "        if (window._pyforest_update_imports_cell) { window._pyforest_update_imports_cell('import pandas as pd\\nimport matplotlib.pyplot as plt'); }\n",
       "    "
      ],
      "text/plain": [
       "<IPython.core.display.Javascript object>"
      ]
     },
     "metadata": {},
     "output_type": "display_data"
    },
    {
     "data": {
      "image/png": "[encoded data removed]",
      "text/plain": [
       "<Figure size 1000x600 with 1 Axes>"
      ]
     },
     "metadata": {},
     "output_type": "display_data"
    }
   ],
   "source": [
    "plt.figure(figsize=(10, 6))\n",
    "\n",
    "plt.subplot(1, 2, 1) #bagian kiri\n",
    "# Pie chart\n",
    "df_pie = ski_seasons.groupby('ski_season')['resort_count'].sum().reset_index()\n",
    "labels = df_pie['ski_season']\n",
    "sizes = df_pie['resort_count']\n",
    "colors = ['skyblue' if label == 'Winter' else 'lightgreen' for label in labels]\n",
    "plt.pie(sizes, labels=labels, autopct='%1.1f%%', startangle=140, colors=colors)\n",
    "plt.title('Persentase Musim Berdasarkan Jumlah Resort')\n",
    "plt.axis('equal')\n",
    "\n",
    "plt.tight_layout()\n",
    "plt.show()\n"
   ]
  },
  {
   "cell_type": "code",
   "execution_count": 106,
   "id": "eefa151d",
   "metadata": {},
   "outputs": [
    {
     "data": {
      "application/javascript": [
       "\n",
       "        if (window._pyforest_update_imports_cell) { window._pyforest_update_imports_cell('import pandas as pd\\nimport matplotlib.pyplot as plt'); }\n",
       "    "
      ],
      "text/plain": [
       "<IPython.core.display.Javascript object>"
      ]
     },
     "metadata": {},
     "output_type": "display_data"
    },
    {
     "data": {
      "application/javascript": [
       "\n",
       "        if (window._pyforest_update_imports_cell) { window._pyforest_update_imports_cell('import pandas as pd\\nimport matplotlib.pyplot as plt'); }\n",
       "    "
      ],
      "text/plain": [
       "<IPython.core.display.Javascript object>"
      ]
     },
     "metadata": {},
     "output_type": "display_data"
    },
    {
     "data": {
      "application/javascript": [
       "\n",
       "        if (window._pyforest_update_imports_cell) { window._pyforest_update_imports_cell('import pandas as pd\\nimport matplotlib.pyplot as plt'); }\n",
       "    "
      ],
      "text/plain": [
       "<IPython.core.display.Javascript object>"
      ]
     },
     "metadata": {},
     "output_type": "display_data"
    },
    {
     "data": {
      "application/javascript": [
       "\n",
       "        if (window._pyforest_update_imports_cell) { window._pyforest_update_imports_cell('import pandas as pd\\nimport matplotlib.pyplot as plt'); }\n",
       "    "
      ],
      "text/plain": [
       "<IPython.core.display.Javascript object>"
      ]
     },
     "metadata": {},
     "output_type": "display_data"
    },
    {
     "data": {
      "application/javascript": [
       "\n",
       "        if (window._pyforest_update_imports_cell) { window._pyforest_update_imports_cell('import pandas as pd\\nimport matplotlib.pyplot as plt'); }\n",
       "    "
      ],
      "text/plain": [
       "<IPython.core.display.Javascript object>"
      ]
     },
     "metadata": {},
     "output_type": "display_data"
    },
    {
     "data": {
      "application/javascript": [
       "\n",
       "        if (window._pyforest_update_imports_cell) { window._pyforest_update_imports_cell('import pandas as pd\\nimport matplotlib.pyplot as plt'); }\n",
       "    "
      ],
      "text/plain": [
       "<IPython.core.display.Javascript object>"
      ]
     },
     "metadata": {},
     "output_type": "display_data"
    },
    {
     "data": {
      "application/javascript": [
       "\n",
       "        if (window._pyforest_update_imports_cell) { window._pyforest_update_imports_cell('import pandas as pd\\nimport matplotlib.pyplot as plt'); }\n",
       "    "
      ],
      "text/plain": [
       "<IPython.core.display.Javascript object>"
      ]
     },
     "metadata": {},
     "output_type": "display_data"
    },
    {
     "data": {
      "image/png": "[encoded data removed]",
      "text/plain": [
       "<Figure size 640x480 with 1 Axes>"
      ]
     },
     "metadata": {},
     "output_type": "display_data"
    }
   ],
   "source": [
    "# Bar chart\n",
    "top_10_countries = ski_seasons.groupby('country')['resort_count'].sum().nlargest(10).index.tolist()\n",
    "df_top_10 = ski_seasons[ski_seasons['country'].isin(top_10_countries)]\n",
    "df_top_10_pivot = df_top_10_pivot.loc[top_10_countries]\n",
    "df_top_10_pivot.plot(kind='bar', stacked=True, color=['lightgreen', 'skyblue'])\n",
    "plt.title('Top 10 Negara Berdasarkan Cuaca yang Cocok untuk Ski')\n",
    "plt.xlabel('Country')\n",
    "plt.ylabel('Resort Count')\n",
    "plt.xticks(rotation=45)\n",
    "plt.legend(title='Ski Season')\n",
    "plt.tight_layout()\n",
    "plt.show()"
   ]
  },
  {
   "cell_type": "markdown",
   "id": "1713dc4b",
   "metadata": {},
   "source": [
    "Berdasarkan kueri dengan menerapkan sub query dan case when, saya bisa membuat hasil analisis dan visualisasi terhadap bagaimana musim dari olahraga Ski pada beberapa lokasi. Seperti yang ditampilkan pada grafik pie chart bahwa hampir 91.2% olahraga Ski itu diadakan ketika musim Winter atau musim salju. Sisanya itu diadakan ketika musim salju baru mendatang dan baru selesai.\n",
    "\n",
    "Selain itu negara Austria, Prancis, dan Amerika itu menjadi negara yang paling banyak melaksanakan olahraga Ski pada musim Salju. Sementara negara spain, norway, dan japan menjadi negara yang paling sedikit resort ski dalam yang mungkin dikarenakan persebaran dari lokasi resort ski memang sedikit."
   ]
  },
  {
   "cell_type": "markdown",
   "id": "fc85de93",
   "metadata": {},
   "source": [
    "3. Which resorts have the highest mountain peaks and elevation changes?"
   ]
  },
  {
   "cell_type": "code",
   "execution_count": 62,
   "id": "d570b93c",
   "metadata": {},
   "outputs": [],
   "source": [
    "sql5 = '''\n",
    "SELECT resort,\n",
    "highest_point,\n",
    "lowest_point, \n",
    "highest_point - lowest_point AS jarak_elevasi, \n",
    "price,\n",
    "total_lifts,\n",
    "country,\n",
    "continent\n",
    "\n",
    "FROM resorts\n",
    "ORDER BY jarak_elevasi DESC;\n",
    "'''"
   ]
  },
  {
   "cell_type": "code",
   "execution_count": 64,
   "id": "f525813a",
   "metadata": {},
   "outputs": [
    {
     "data": {
      "application/javascript": [
       "\n",
       "        if (window._pyforest_update_imports_cell) { window._pyforest_update_imports_cell('import pandas as pd\\nimport matplotlib.pyplot as plt'); }\n",
       "    "
      ],
      "text/plain": [
       "<IPython.core.display.Javascript object>"
      ]
     },
     "metadata": {},
     "output_type": "display_data"
    },
    {
     "data": {
      "text/html": [
       "<div>\n",
       "<style scoped>\n",
       "    .dataframe tbody tr th:only-of-type {\n",
       "        vertical-align: middle;\n",
       "    }\n",
       "\n",
       "    .dataframe tbody tr th {\n",
       "        vertical-align: top;\n",
       "    }\n",
       "\n",
       "    .dataframe thead th {\n",
       "        text-align: right;\n",
       "    }\n",
       "</style>\n",
       "<table border=\"1\" class=\"dataframe\">\n",
       "  <thead>\n",
       "    <tr style=\"text-align: right;\">\n",
       "      <th></th>\n",
       "      <th>resort</th>\n",
       "      <th>highest_point</th>\n",
       "      <th>lowest_point</th>\n",
       "      <th>jarak_elevasi</th>\n",
       "      <th>price</th>\n",
       "      <th>total_lifts</th>\n",
       "      <th>country</th>\n",
       "      <th>continent</th>\n",
       "    </tr>\n",
       "  </thead>\n",
       "  <tbody>\n",
       "    <tr>\n",
       "      <th>0</th>\n",
       "      <td>Nendaz (4 Valle?es)</td>\n",
       "      <td>3330</td>\n",
       "      <td>821</td>\n",
       "      <td>2509</td>\n",
       "      <td>66</td>\n",
       "      <td>75</td>\n",
       "      <td>Switzerland</td>\n",
       "      <td>Europe</td>\n",
       "    </tr>\n",
       "    <tr>\n",
       "      <th>1</th>\n",
       "      <td>Veysonnaz (4 Valle?es)</td>\n",
       "      <td>3330</td>\n",
       "      <td>821</td>\n",
       "      <td>2509</td>\n",
       "      <td>66</td>\n",
       "      <td>75</td>\n",
       "      <td>Switzerland</td>\n",
       "      <td>Europe</td>\n",
       "    </tr>\n",
       "    <tr>\n",
       "      <th>2</th>\n",
       "      <td>Thyon (4 Valle?es)</td>\n",
       "      <td>3330</td>\n",
       "      <td>821</td>\n",
       "      <td>2509</td>\n",
       "      <td>66</td>\n",
       "      <td>75</td>\n",
       "      <td>Switzerland</td>\n",
       "      <td>Europe</td>\n",
       "    </tr>\n",
       "    <tr>\n",
       "      <th>3</th>\n",
       "      <td>Verbier (4 Valle?es)</td>\n",
       "      <td>3330</td>\n",
       "      <td>821</td>\n",
       "      <td>2509</td>\n",
       "      <td>66</td>\n",
       "      <td>75</td>\n",
       "      <td>Switzerland</td>\n",
       "      <td>Europe</td>\n",
       "    </tr>\n",
       "    <tr>\n",
       "      <th>4</th>\n",
       "      <td>Alpe d'Huez</td>\n",
       "      <td>3330</td>\n",
       "      <td>1125</td>\n",
       "      <td>2205</td>\n",
       "      <td>51</td>\n",
       "      <td>68</td>\n",
       "      <td>France</td>\n",
       "      <td>Europe</td>\n",
       "    </tr>\n",
       "  </tbody>\n",
       "</table>\n",
       "</div>"
      ],
      "text/plain": [
       "                   resort  highest_point  lowest_point  jarak_elevasi  price  \\\n",
       "0     Nendaz (4 Valle?es)           3330           821           2509     66   \n",
       "1  Veysonnaz (4 Valle?es)           3330           821           2509     66   \n",
       "2      Thyon (4 Valle?es)           3330           821           2509     66   \n",
       "3    Verbier (4 Valle?es)           3330           821           2509     66   \n",
       "4             Alpe d'Huez           3330          1125           2205     51   \n",
       "\n",
       "   total_lifts      country continent  \n",
       "0           75  Switzerland    Europe  \n",
       "1           75  Switzerland    Europe  \n",
       "2           75  Switzerland    Europe  \n",
       "3           75  Switzerland    Europe  \n",
       "4           68       France    Europe  "
      ]
     },
     "execution_count": 64,
     "metadata": {},
     "output_type": "execute_result"
    }
   ],
   "source": [
    "elevasi = pd.read_sql_query(sql5, koneksi)\n",
    "elevasi.head(5)"
   ]
  },
  {
   "cell_type": "code",
   "execution_count": 78,
   "id": "31d19701",
   "metadata": {},
   "outputs": [
    {
     "data": {
      "application/javascript": [
       "\n",
       "        if (window._pyforest_update_imports_cell) { window._pyforest_update_imports_cell('import pandas as pd\\nimport matplotlib.pyplot as plt'); }\n",
       "    "
      ],
      "text/plain": [
       "<IPython.core.display.Javascript object>"
      ]
     },
     "metadata": {},
     "output_type": "display_data"
    },
    {
     "data": {
      "application/javascript": [
       "\n",
       "        if (window._pyforest_update_imports_cell) { window._pyforest_update_imports_cell('import pandas as pd\\nimport matplotlib.pyplot as plt'); }\n",
       "    "
      ],
      "text/plain": [
       "<IPython.core.display.Javascript object>"
      ]
     },
     "metadata": {},
     "output_type": "display_data"
    },
    {
     "data": {
      "application/javascript": [
       "\n",
       "        if (window._pyforest_update_imports_cell) { window._pyforest_update_imports_cell('import pandas as pd\\nimport matplotlib.pyplot as plt'); }\n",
       "    "
      ],
      "text/plain": [
       "<IPython.core.display.Javascript object>"
      ]
     },
     "metadata": {},
     "output_type": "display_data"
    },
    {
     "data": {
      "application/javascript": [
       "\n",
       "        if (window._pyforest_update_imports_cell) { window._pyforest_update_imports_cell('import pandas as pd\\nimport matplotlib.pyplot as plt'); }\n",
       "    "
      ],
      "text/plain": [
       "<IPython.core.display.Javascript object>"
      ]
     },
     "metadata": {},
     "output_type": "display_data"
    },
    {
     "data": {
      "application/javascript": [
       "\n",
       "        if (window._pyforest_update_imports_cell) { window._pyforest_update_imports_cell('import pandas as pd\\nimport matplotlib.pyplot as plt'); }\n",
       "    "
      ],
      "text/plain": [
       "<IPython.core.display.Javascript object>"
      ]
     },
     "metadata": {},
     "output_type": "display_data"
    },
    {
     "data": {
      "application/javascript": [
       "\n",
       "        if (window._pyforest_update_imports_cell) { window._pyforest_update_imports_cell('import pandas as pd\\nimport matplotlib.pyplot as plt'); }\n",
       "    "
      ],
      "text/plain": [
       "<IPython.core.display.Javascript object>"
      ]
     },
     "metadata": {},
     "output_type": "display_data"
    },
    {
     "data": {
      "application/javascript": [
       "\n",
       "        if (window._pyforest_update_imports_cell) { window._pyforest_update_imports_cell('import pandas as pd\\nimport matplotlib.pyplot as plt'); }\n",
       "    "
      ],
      "text/plain": [
       "<IPython.core.display.Javascript object>"
      ]
     },
     "metadata": {},
     "output_type": "display_data"
    },
    {
     "data": {
      "application/javascript": [
       "\n",
       "        if (window._pyforest_update_imports_cell) { window._pyforest_update_imports_cell('import pandas as pd\\nimport matplotlib.pyplot as plt'); }\n",
       "    "
      ],
      "text/plain": [
       "<IPython.core.display.Javascript object>"
      ]
     },
     "metadata": {},
     "output_type": "display_data"
    },
    {
     "data": {
      "application/javascript": [
       "\n",
       "        if (window._pyforest_update_imports_cell) { window._pyforest_update_imports_cell('import pandas as pd\\nimport matplotlib.pyplot as plt'); }\n",
       "    "
      ],
      "text/plain": [
       "<IPython.core.display.Javascript object>"
      ]
     },
     "metadata": {},
     "output_type": "display_data"
    },
    {
     "data": {
      "application/javascript": [
       "\n",
       "        if (window._pyforest_update_imports_cell) { window._pyforest_update_imports_cell('import pandas as pd\\nimport matplotlib.pyplot as plt'); }\n",
       "    "
      ],
      "text/plain": [
       "<IPython.core.display.Javascript object>"
      ]
     },
     "metadata": {},
     "output_type": "display_data"
    },
    {
     "data": {
      "application/javascript": [
       "\n",
       "        if (window._pyforest_update_imports_cell) { window._pyforest_update_imports_cell('import pandas as pd\\nimport matplotlib.pyplot as plt'); }\n",
       "    "
      ],
      "text/plain": [
       "<IPython.core.display.Javascript object>"
      ]
     },
     "metadata": {},
     "output_type": "display_data"
    },
    {
     "data": {
      "application/javascript": [
       "\n",
       "        if (window._pyforest_update_imports_cell) { window._pyforest_update_imports_cell('import pandas as pd\\nimport matplotlib.pyplot as plt'); }\n",
       "    "
      ],
      "text/plain": [
       "<IPython.core.display.Javascript object>"
      ]
     },
     "metadata": {},
     "output_type": "display_data"
    },
    {
     "data": {
      "application/javascript": [
       "\n",
       "        if (window._pyforest_update_imports_cell) { window._pyforest_update_imports_cell('import pandas as pd\\nimport matplotlib.pyplot as plt'); }\n",
       "    "
      ],
      "text/plain": [
       "<IPython.core.display.Javascript object>"
      ]
     },
     "metadata": {},
     "output_type": "display_data"
    },
    {
     "data": {
      "application/javascript": [
       "\n",
       "        if (window._pyforest_update_imports_cell) { window._pyforest_update_imports_cell('import pandas as pd\\nimport matplotlib.pyplot as plt'); }\n",
       "    "
      ],
      "text/plain": [
       "<IPython.core.display.Javascript object>"
      ]
     },
     "metadata": {},
     "output_type": "display_data"
    },
    {
     "data": {
      "application/javascript": [
       "\n",
       "        if (window._pyforest_update_imports_cell) { window._pyforest_update_imports_cell('import pandas as pd\\nimport matplotlib.pyplot as plt'); }\n",
       "    "
      ],
      "text/plain": [
       "<IPython.core.display.Javascript object>"
      ]
     },
     "metadata": {},
     "output_type": "display_data"
    },
    {
     "data": {
      "application/javascript": [
       "\n",
       "        if (window._pyforest_update_imports_cell) { window._pyforest_update_imports_cell('import pandas as pd\\nimport matplotlib.pyplot as plt'); }\n",
       "    "
      ],
      "text/plain": [
       "<IPython.core.display.Javascript object>"
      ]
     },
     "metadata": {},
     "output_type": "display_data"
    },
    {
     "data": {
      "application/javascript": [
       "\n",
       "        if (window._pyforest_update_imports_cell) { window._pyforest_update_imports_cell('import pandas as pd\\nimport matplotlib.pyplot as plt'); }\n",
       "    "
      ],
      "text/plain": [
       "<IPython.core.display.Javascript object>"
      ]
     },
     "metadata": {},
     "output_type": "display_data"
    },
    {
     "data": {
      "application/javascript": [
       "\n",
       "        if (window._pyforest_update_imports_cell) { window._pyforest_update_imports_cell('import pandas as pd\\nimport matplotlib.pyplot as plt'); }\n",
       "    "
      ],
      "text/plain": [
       "<IPython.core.display.Javascript object>"
      ]
     },
     "metadata": {},
     "output_type": "display_data"
    },
    {
     "data": {
      "application/javascript": [
       "\n",
       "        if (window._pyforest_update_imports_cell) { window._pyforest_update_imports_cell('import pandas as pd\\nimport matplotlib.pyplot as plt'); }\n",
       "    "
      ],
      "text/plain": [
       "<IPython.core.display.Javascript object>"
      ]
     },
     "metadata": {},
     "output_type": "display_data"
    },
    {
     "data": {
      "application/javascript": [
       "\n",
       "        if (window._pyforest_update_imports_cell) { window._pyforest_update_imports_cell('import pandas as pd\\nimport matplotlib.pyplot as plt'); }\n",
       "    "
      ],
      "text/plain": [
       "<IPython.core.display.Javascript object>"
      ]
     },
     "metadata": {},
     "output_type": "display_data"
    },
    {
     "data": {
      "application/javascript": [
       "\n",
       "        if (window._pyforest_update_imports_cell) { window._pyforest_update_imports_cell('import pandas as pd\\nimport matplotlib.pyplot as plt'); }\n",
       "    "
      ],
      "text/plain": [
       "<IPython.core.display.Javascript object>"
      ]
     },
     "metadata": {},
     "output_type": "display_data"
    },
    {
     "data": {
      "image/png": "[encoded data removed]",
      "text/plain": [
       "<Figure size 1000x600 with 1 Axes>"
      ]
     },
     "metadata": {},
     "output_type": "display_data"
    }
   ],
   "source": [
    "top_10_resorts = elevasi.head(10)\n",
    "\n",
    "color_mapping = {'France': 'skyblue', 'Switzerland': 'lightsalmon'}\n",
    "\n",
    "colors = top_10_resorts['country'].apply(lambda x: color_mapping.get(x, 'lightgrey'))\n",
    "\n",
    "plt.figure(figsize=(10, 6))\n",
    "bars = plt.bar(top_10_resorts['resort'], top_10_resorts['jarak_elevasi'], color=colors)\n",
    "\n",
    "for bar, price in zip(bars, top_10_resorts['price']):\n",
    "    bar_x = bar.get_x() + bar.get_width() / 2\n",
    "    bar_y = bar.get_height() + 0.05\n",
    "    plt.text(bar_x, bar_y, str(price), ha='center', va='bottom', color='black', fontsize=8)\n",
    "    bar.set_color(color_mapping.get(top_10_resorts['country'][bars.index(bar)], 'lightgrey'))\n",
    "\n",
    "plt.title('Top 10 Tempat Wisata Ski Berdasarkan Jarak Elevasi')\n",
    "plt.xlabel('Resort')\n",
    "plt.ylabel('Jarak Elevasi (meter)')\n",
    "\n",
    "plt.legend(handles=[plt.Rectangle((0,0),1,1, color='skyblue', ec=\"k\", label='France'),\n",
    "                    plt.Rectangle((0,0),1,1, color='lightsalmon', ec=\"k\", label='Switzerland')],\n",
    "           title='Country')\n",
    "\n",
    "plt.xticks(rotation=45, ha='right')\n",
    "plt.tight_layout()\n",
    "plt.show()"
   ]
  },
  {
   "cell_type": "markdown",
   "id": "ad99de40",
   "metadata": {},
   "source": [
    "Dengan memilih beberapa fitur untuk mencari resort ski manakah yang memiliki tempat wisata yang paling tinggi lokasinya dan juga jarak elevasi yang merupkan selisih lokasi tertinggi dan terbawah dari suatu resort.\n",
    "\n",
    "Sehingga diketahui bahwa lokasi resort berdasarkan jarak elevasi pada resort Nendaz, Veysonnaz, Thyon, dan Verbier itu memiliki jarak elevasi paling besar yaitu sekitar 2,5 Kilometer. Artinya keempat resort tersebut mempunyai area yang cukup luas dalam aktivitas olahraga saljunya. Selain itu juga keempat resort tersebut sama-sama memasang harga $66."
   ]
  },
  {
   "cell_type": "markdown",
   "id": "58772107",
   "metadata": {},
   "source": [
    "4. What resorts are best for beginners? What about the experts?"
   ]
  },
  {
   "cell_type": "code",
   "execution_count": 81,
   "id": "46c0495d",
   "metadata": {},
   "outputs": [],
   "source": [
    "sql6 = '''\n",
    "SELECT resort,\n",
    "beginner_slope,\n",
    "intermediate_slope,\n",
    "difficult_slope,\n",
    "price,\n",
    "total_lifts\n",
    "\n",
    "FROM resorts;\n",
    "'''"
   ]
  },
  {
   "cell_type": "code",
   "execution_count": 82,
   "id": "50a4d5f5",
   "metadata": {},
   "outputs": [
    {
     "data": {
      "application/javascript": [
       "\n",
       "        if (window._pyforest_update_imports_cell) { window._pyforest_update_imports_cell('import pandas as pd\\nimport matplotlib.pyplot as plt'); }\n",
       "    "
      ],
      "text/plain": [
       "<IPython.core.display.Javascript object>"
      ]
     },
     "metadata": {},
     "output_type": "display_data"
    },
    {
     "data": {
      "text/html": [
       "<div>\n",
       "<style scoped>\n",
       "    .dataframe tbody tr th:only-of-type {\n",
       "        vertical-align: middle;\n",
       "    }\n",
       "\n",
       "    .dataframe tbody tr th {\n",
       "        vertical-align: top;\n",
       "    }\n",
       "\n",
       "    .dataframe thead th {\n",
       "        text-align: right;\n",
       "    }\n",
       "</style>\n",
       "<table border=\"1\" class=\"dataframe\">\n",
       "  <thead>\n",
       "    <tr style=\"text-align: right;\">\n",
       "      <th></th>\n",
       "      <th>resort</th>\n",
       "      <th>beginner_slope</th>\n",
       "      <th>intermediate_slope</th>\n",
       "      <th>difficult_slope</th>\n",
       "      <th>price</th>\n",
       "      <th>total_lifts</th>\n",
       "    </tr>\n",
       "  </thead>\n",
       "  <tbody>\n",
       "    <tr>\n",
       "      <th>0</th>\n",
       "      <td>Hemsedal</td>\n",
       "      <td>29</td>\n",
       "      <td>10</td>\n",
       "      <td>4</td>\n",
       "      <td>46</td>\n",
       "      <td>21</td>\n",
       "    </tr>\n",
       "    <tr>\n",
       "      <th>1</th>\n",
       "      <td>Geilosiden Geilo</td>\n",
       "      <td>18</td>\n",
       "      <td>12</td>\n",
       "      <td>4</td>\n",
       "      <td>44</td>\n",
       "      <td>24</td>\n",
       "    </tr>\n",
       "    <tr>\n",
       "      <th>2</th>\n",
       "      <td>Golm</td>\n",
       "      <td>13</td>\n",
       "      <td>12</td>\n",
       "      <td>1</td>\n",
       "      <td>48</td>\n",
       "      <td>11</td>\n",
       "    </tr>\n",
       "    <tr>\n",
       "      <th>3</th>\n",
       "      <td>Red Mountain Resort-Rossland</td>\n",
       "      <td>20</td>\n",
       "      <td>50</td>\n",
       "      <td>50</td>\n",
       "      <td>60</td>\n",
       "      <td>8</td>\n",
       "    </tr>\n",
       "    <tr>\n",
       "      <th>4</th>\n",
       "      <td>Hafjell</td>\n",
       "      <td>33</td>\n",
       "      <td>7</td>\n",
       "      <td>4</td>\n",
       "      <td>45</td>\n",
       "      <td>18</td>\n",
       "    </tr>\n",
       "  </tbody>\n",
       "</table>\n",
       "</div>"
      ],
      "text/plain": [
       "                         resort  beginner_slope  intermediate_slope  \\\n",
       "0                      Hemsedal              29                  10   \n",
       "1              Geilosiden Geilo              18                  12   \n",
       "2                          Golm              13                  12   \n",
       "3  Red Mountain Resort-Rossland              20                  50   \n",
       "4                       Hafjell              33                   7   \n",
       "\n",
       "   difficult_slope  price  total_lifts  \n",
       "0                4     46           21  \n",
       "1                4     44           24  \n",
       "2                1     48           11  \n",
       "3               50     60            8  \n",
       "4                4     45           18  "
      ]
     },
     "execution_count": 82,
     "metadata": {},
     "output_type": "execute_result"
    }
   ],
   "source": [
    "slope = pd.read_sql_query(sql6, koneksi)\n",
    "slope.head(5)"
   ]
  },
  {
   "cell_type": "code",
   "execution_count": 86,
   "id": "c03143ce",
   "metadata": {},
   "outputs": [
    {
     "data": {
      "application/javascript": [
       "\n",
       "        if (window._pyforest_update_imports_cell) { window._pyforest_update_imports_cell('import pandas as pd\\nimport matplotlib.pyplot as plt'); }\n",
       "    "
      ],
      "text/plain": [
       "<IPython.core.display.Javascript object>"
      ]
     },
     "metadata": {},
     "output_type": "display_data"
    },
    {
     "data": {
      "application/javascript": [
       "\n",
       "        if (window._pyforest_update_imports_cell) { window._pyforest_update_imports_cell('import pandas as pd\\nimport matplotlib.pyplot as plt'); }\n",
       "    "
      ],
      "text/plain": [
       "<IPython.core.display.Javascript object>"
      ]
     },
     "metadata": {},
     "output_type": "display_data"
    },
    {
     "data": {
      "application/javascript": [
       "\n",
       "        if (window._pyforest_update_imports_cell) { window._pyforest_update_imports_cell('import pandas as pd\\nimport matplotlib.pyplot as plt'); }\n",
       "    "
      ],
      "text/plain": [
       "<IPython.core.display.Javascript object>"
      ]
     },
     "metadata": {},
     "output_type": "display_data"
    },
    {
     "data": {
      "application/javascript": [
       "\n",
       "        if (window._pyforest_update_imports_cell) { window._pyforest_update_imports_cell('import pandas as pd\\nimport matplotlib.pyplot as plt'); }\n",
       "    "
      ],
      "text/plain": [
       "<IPython.core.display.Javascript object>"
      ]
     },
     "metadata": {},
     "output_type": "display_data"
    },
    {
     "data": {
      "application/javascript": [
       "\n",
       "        if (window._pyforest_update_imports_cell) { window._pyforest_update_imports_cell('import pandas as pd\\nimport matplotlib.pyplot as plt'); }\n",
       "    "
      ],
      "text/plain": [
       "<IPython.core.display.Javascript object>"
      ]
     },
     "metadata": {},
     "output_type": "display_data"
    },
    {
     "data": {
      "application/javascript": [
       "\n",
       "        if (window._pyforest_update_imports_cell) { window._pyforest_update_imports_cell('import pandas as pd\\nimport matplotlib.pyplot as plt'); }\n",
       "    "
      ],
      "text/plain": [
       "<IPython.core.display.Javascript object>"
      ]
     },
     "metadata": {},
     "output_type": "display_data"
    },
    {
     "data": {
      "application/javascript": [
       "\n",
       "        if (window._pyforest_update_imports_cell) { window._pyforest_update_imports_cell('import pandas as pd\\nimport matplotlib.pyplot as plt'); }\n",
       "    "
      ],
      "text/plain": [
       "<IPython.core.display.Javascript object>"
      ]
     },
     "metadata": {},
     "output_type": "display_data"
    },
    {
     "data": {
      "application/javascript": [
       "\n",
       "        if (window._pyforest_update_imports_cell) { window._pyforest_update_imports_cell('import pandas as pd\\nimport matplotlib.pyplot as plt'); }\n",
       "    "
      ],
      "text/plain": [
       "<IPython.core.display.Javascript object>"
      ]
     },
     "metadata": {},
     "output_type": "display_data"
    },
    {
     "data": {
      "application/javascript": [
       "\n",
       "        if (window._pyforest_update_imports_cell) { window._pyforest_update_imports_cell('import pandas as pd\\nimport matplotlib.pyplot as plt'); }\n",
       "    "
      ],
      "text/plain": [
       "<IPython.core.display.Javascript object>"
      ]
     },
     "metadata": {},
     "output_type": "display_data"
    },
    {
     "data": {
      "application/javascript": [
       "\n",
       "        if (window._pyforest_update_imports_cell) { window._pyforest_update_imports_cell('import pandas as pd\\nimport matplotlib.pyplot as plt'); }\n",
       "    "
      ],
      "text/plain": [
       "<IPython.core.display.Javascript object>"
      ]
     },
     "metadata": {},
     "output_type": "display_data"
    },
    {
     "data": {
      "application/javascript": [
       "\n",
       "        if (window._pyforest_update_imports_cell) { window._pyforest_update_imports_cell('import pandas as pd\\nimport matplotlib.pyplot as plt'); }\n",
       "    "
      ],
      "text/plain": [
       "<IPython.core.display.Javascript object>"
      ]
     },
     "metadata": {},
     "output_type": "display_data"
    },
    {
     "data": {
      "application/javascript": [
       "\n",
       "        if (window._pyforest_update_imports_cell) { window._pyforest_update_imports_cell('import pandas as pd\\nimport matplotlib.pyplot as plt'); }\n",
       "    "
      ],
      "text/plain": [
       "<IPython.core.display.Javascript object>"
      ]
     },
     "metadata": {},
     "output_type": "display_data"
    },
    {
     "data": {
      "application/javascript": [
       "\n",
       "        if (window._pyforest_update_imports_cell) { window._pyforest_update_imports_cell('import pandas as pd\\nimport matplotlib.pyplot as plt'); }\n",
       "    "
      ],
      "text/plain": [
       "<IPython.core.display.Javascript object>"
      ]
     },
     "metadata": {},
     "output_type": "display_data"
    },
    {
     "data": {
      "image/png": "[encoded data removed]",
      "text/plain": [
       "<Figure size 1500x600 with 2 Axes>"
      ]
     },
     "metadata": {},
     "output_type": "display_data"
    }
   ],
   "source": [
    "top_10_beginner = slope[(slope['beginner_slope'] > 0) & (slope['intermediate_slope'] < 10) & (slope['difficult_slope'] < 5)].nlargest(10, 'beginner_slope')\n",
    "\n",
    "top_10_expert = slope[(slope['difficult_slope'] > 0) & (slope['beginner_slope'] < 10) & (slope['intermediate_slope'] < 50)].nlargest(10, 'difficult_slope')\n",
    "\n",
    "plt.figure(figsize=(15, 6))\n",
    "\n",
    "plt.subplot(1, 2, 1)\n",
    "bars_beginner = plt.barh(top_10_beginner['resort'], top_10_beginner['beginner_slope'], color='skyblue')\n",
    "plt.xlabel('Beginner Slope')\n",
    "plt.title('Top 10 Resorts for Beginners')\n",
    "plt.gca().invert_yaxis() \n",
    "\n",
    "plt.subplot(1, 2, 2)\n",
    "bars_expert = plt.barh(top_10_expert['resort'], top_10_expert['difficult_slope'], color='lightsalmon')\n",
    "plt.xlabel('Difficult Slope')\n",
    "plt.title('Top 10 Resorts for Experts')\n",
    "plt.gca().invert_yaxis()\n",
    "\n",
    "plt.tight_layout()\n",
    "plt.show()"
   ]
  },
  {
   "cell_type": "markdown",
   "id": "db952111",
   "metadata": {},
   "source": [
    "Untuk mencari resort mana yang paling cocok untuk pemula dan yang mahir terhadap data dari tabel 'resorts' adalah dengan memanggil datanya seperti biasa. Lalu menentukan beberapa syarat untuk resort yang cocok untuk pemula yaitu harus memiliki lintasan pemula yang banyak. Sedangkan untuk menentukan resort yang cocok terhadap orang yang mahir itu harus memiliki lintasan yang sulit cukup banyak. Dimana resort Hafjell merupakan resort paling cocok untuk pemula dan resort Castle Mountain itu cocok untuk expert."
   ]
  },
  {
   "cell_type": "markdown",
   "id": "17d2a02d",
   "metadata": {},
   "source": [
    "5. Perbandingan Resor Ski Ramah Anak: Lereng atau rute Pemula, Lift, dan Meriam Salju Berdasarkan Negara"
   ]
  },
  {
   "cell_type": "code",
   "execution_count": 87,
   "id": "257e3417",
   "metadata": {},
   "outputs": [],
   "source": [
    "sql7 = '''\n",
    "SELECT country, AVG(beginner_slope) as beginner_slope,\n",
    "       AVG(price) AS average_price,\n",
    "       AVG(gondola_lifts) AS average_gondola_lifts,\n",
    "       AVG(chair_lifts + surface_lifts) AS average_total_lifts,\n",
    "       AVG(snow_cannons) AS average_snow_cannons\n",
    "       \n",
    "FROM resorts\n",
    "\n",
    "WHERE child_friendly = 'Yes' AND beginner_slope > 30\n",
    "GROUP BY country;\n",
    "\n",
    "'''"
   ]
  },
  {
   "cell_type": "code",
   "execution_count": 89,
   "id": "87b50db1",
   "metadata": {},
   "outputs": [
    {
     "data": {
      "application/javascript": [
       "\n",
       "        if (window._pyforest_update_imports_cell) { window._pyforest_update_imports_cell('import pandas as pd\\nimport matplotlib.pyplot as plt'); }\n",
       "    "
      ],
      "text/plain": [
       "<IPython.core.display.Javascript object>"
      ]
     },
     "metadata": {},
     "output_type": "display_data"
    },
    {
     "data": {
      "text/html": [
       "<div>\n",
       "<style scoped>\n",
       "    .dataframe tbody tr th:only-of-type {\n",
       "        vertical-align: middle;\n",
       "    }\n",
       "\n",
       "    .dataframe tbody tr th {\n",
       "        vertical-align: top;\n",
       "    }\n",
       "\n",
       "    .dataframe thead th {\n",
       "        text-align: right;\n",
       "    }\n",
       "</style>\n",
       "<table border=\"1\" class=\"dataframe\">\n",
       "  <thead>\n",
       "    <tr style=\"text-align: right;\">\n",
       "      <th></th>\n",
       "      <th>country</th>\n",
       "      <th>beginner_slope</th>\n",
       "      <th>average_price</th>\n",
       "      <th>average_gondola_lifts</th>\n",
       "      <th>average_total_lifts</th>\n",
       "      <th>average_snow_cannons</th>\n",
       "    </tr>\n",
       "  </thead>\n",
       "  <tbody>\n",
       "    <tr>\n",
       "      <th>0</th>\n",
       "      <td>Switzerland</td>\n",
       "      <td>64.444444</td>\n",
       "      <td>58.444444</td>\n",
       "      <td>8.388889</td>\n",
       "      <td>28.444444</td>\n",
       "      <td>104.277778</td>\n",
       "    </tr>\n",
       "    <tr>\n",
       "      <th>1</th>\n",
       "      <td>Italy</td>\n",
       "      <td>57.083333</td>\n",
       "      <td>47.250000</td>\n",
       "      <td>7.750000</td>\n",
       "      <td>39.250000</td>\n",
       "      <td>208.416667</td>\n",
       "    </tr>\n",
       "    <tr>\n",
       "      <th>2</th>\n",
       "      <td>Sweden</td>\n",
       "      <td>45.000000</td>\n",
       "      <td>45.000000</td>\n",
       "      <td>4.000000</td>\n",
       "      <td>32.000000</td>\n",
       "      <td>0.000000</td>\n",
       "    </tr>\n",
       "    <tr>\n",
       "      <th>3</th>\n",
       "      <td>Norway</td>\n",
       "      <td>33.000000</td>\n",
       "      <td>45.500000</td>\n",
       "      <td>0.500000</td>\n",
       "      <td>26.500000</td>\n",
       "      <td>284.000000</td>\n",
       "    </tr>\n",
       "    <tr>\n",
       "      <th>4</th>\n",
       "      <td>Austria</td>\n",
       "      <td>87.950000</td>\n",
       "      <td>51.400000</td>\n",
       "      <td>12.550000</td>\n",
       "      <td>57.300000</td>\n",
       "      <td>825.750000</td>\n",
       "    </tr>\n",
       "  </tbody>\n",
       "</table>\n",
       "</div>"
      ],
      "text/plain": [
       "       country  beginner_slope  average_price  average_gondola_lifts  \\\n",
       "0  Switzerland       64.444444      58.444444               8.388889   \n",
       "1        Italy       57.083333      47.250000               7.750000   \n",
       "2       Sweden       45.000000      45.000000               4.000000   \n",
       "3       Norway       33.000000      45.500000               0.500000   \n",
       "4      Austria       87.950000      51.400000              12.550000   \n",
       "\n",
       "   average_total_lifts  average_snow_cannons  \n",
       "0            28.444444            104.277778  \n",
       "1            39.250000            208.416667  \n",
       "2            32.000000              0.000000  \n",
       "3            26.500000            284.000000  \n",
       "4            57.300000            825.750000  "
      ]
     },
     "execution_count": 89,
     "metadata": {},
     "output_type": "execute_result"
    }
   ],
   "source": [
    "ramah_anak = pd.read_sql_query(sql7, koneksi)\n",
    "ramah_anak.head(5)"
   ]
  },
  {
   "cell_type": "code",
   "execution_count": 117,
   "id": "901c5acb",
   "metadata": {},
   "outputs": [
    {
     "data": {
      "text/html": [
       "<div>\n",
       "<style scoped>\n",
       "    .dataframe tbody tr th:only-of-type {\n",
       "        vertical-align: middle;\n",
       "    }\n",
       "\n",
       "    .dataframe tbody tr th {\n",
       "        vertical-align: top;\n",
       "    }\n",
       "\n",
       "    .dataframe thead th {\n",
       "        text-align: right;\n",
       "    }\n",
       "</style>\n",
       "<table border=\"1\" class=\"dataframe\">\n",
       "  <thead>\n",
       "    <tr style=\"text-align: right;\">\n",
       "      <th></th>\n",
       "      <th>country</th>\n",
       "      <th>beginner_slope</th>\n",
       "      <th>average_price</th>\n",
       "      <th>average_gondola_lifts</th>\n",
       "      <th>average_total_lifts</th>\n",
       "      <th>average_snow_cannons</th>\n",
       "    </tr>\n",
       "  </thead>\n",
       "  <tbody>\n",
       "    <tr>\n",
       "      <th>10</th>\n",
       "      <td>Andorra</td>\n",
       "      <td>82.750000</td>\n",
       "      <td>44.500000</td>\n",
       "      <td>6.250000</td>\n",
       "      <td>55.500000</td>\n",
       "      <td>848.000000</td>\n",
       "    </tr>\n",
       "    <tr>\n",
       "      <th>4</th>\n",
       "      <td>Austria</td>\n",
       "      <td>87.950000</td>\n",
       "      <td>51.400000</td>\n",
       "      <td>12.550000</td>\n",
       "      <td>57.300000</td>\n",
       "      <td>825.750000</td>\n",
       "    </tr>\n",
       "    <tr>\n",
       "      <th>7</th>\n",
       "      <td>France</td>\n",
       "      <td>123.195122</td>\n",
       "      <td>43.365854</td>\n",
       "      <td>9.536585</td>\n",
       "      <td>59.390244</td>\n",
       "      <td>663.585366</td>\n",
       "    </tr>\n",
       "    <tr>\n",
       "      <th>6</th>\n",
       "      <td>Spain</td>\n",
       "      <td>57.400000</td>\n",
       "      <td>45.600000</td>\n",
       "      <td>1.000000</td>\n",
       "      <td>24.600000</td>\n",
       "      <td>485.800000</td>\n",
       "    </tr>\n",
       "    <tr>\n",
       "      <th>3</th>\n",
       "      <td>Norway</td>\n",
       "      <td>33.000000</td>\n",
       "      <td>45.500000</td>\n",
       "      <td>0.500000</td>\n",
       "      <td>26.500000</td>\n",
       "      <td>284.000000</td>\n",
       "    </tr>\n",
       "  </tbody>\n",
       "</table>\n",
       "</div>"
      ],
      "text/plain": [
       "    country  beginner_slope  average_price  average_gondola_lifts  \\\n",
       "10  Andorra       82.750000      44.500000               6.250000   \n",
       "4   Austria       87.950000      51.400000              12.550000   \n",
       "7    France      123.195122      43.365854               9.536585   \n",
       "6     Spain       57.400000      45.600000               1.000000   \n",
       "3    Norway       33.000000      45.500000               0.500000   \n",
       "\n",
       "    average_total_lifts  average_snow_cannons  \n",
       "10            55.500000            848.000000  \n",
       "4             57.300000            825.750000  \n",
       "7             59.390244            663.585366  \n",
       "6             24.600000            485.800000  \n",
       "3             26.500000            284.000000  "
      ]
     },
     "execution_count": 117,
     "metadata": {},
     "output_type": "execute_result"
    }
   ],
   "source": [
    "top_beginner_slope = ramah_anak.nlargest(5, 'beginner_slope')\n",
    "\n",
    "top_gondola_lifts = ramah_anak.nlargest(5, 'average_gondola_lifts')\n",
    "top_total_lifts = ramah_anak.nlargest(5, 'average_total_lifts')\n",
    "top_snow_cannons = ramah_anak.nlargest(5, 'average_snow_cannons')\n",
    "top_snow_cannons"
   ]
  },
  {
   "cell_type": "code",
   "execution_count": 91,
   "id": "47003766",
   "metadata": {},
   "outputs": [
    {
     "data": {
      "application/javascript": [
       "\n",
       "        if (window._pyforest_update_imports_cell) { window._pyforest_update_imports_cell('import pandas as pd\\nimport matplotlib.pyplot as plt'); }\n",
       "    "
      ],
      "text/plain": [
       "<IPython.core.display.Javascript object>"
      ]
     },
     "metadata": {},
     "output_type": "display_data"
    },
    {
     "data": {
      "application/javascript": [
       "\n",
       "        if (window._pyforest_update_imports_cell) { window._pyforest_update_imports_cell('import pandas as pd\\nimport matplotlib.pyplot as plt'); }\n",
       "    "
      ],
      "text/plain": [
       "<IPython.core.display.Javascript object>"
      ]
     },
     "metadata": {},
     "output_type": "display_data"
    },
    {
     "data": {
      "application/javascript": [
       "\n",
       "        if (window._pyforest_update_imports_cell) { window._pyforest_update_imports_cell('import pandas as pd\\nimport matplotlib.pyplot as plt'); }\n",
       "    "
      ],
      "text/plain": [
       "<IPython.core.display.Javascript object>"
      ]
     },
     "metadata": {},
     "output_type": "display_data"
    },
    {
     "data": {
      "application/javascript": [
       "\n",
       "        if (window._pyforest_update_imports_cell) { window._pyforest_update_imports_cell('import pandas as pd\\nimport matplotlib.pyplot as plt'); }\n",
       "    "
      ],
      "text/plain": [
       "<IPython.core.display.Javascript object>"
      ]
     },
     "metadata": {},
     "output_type": "display_data"
    },
    {
     "data": {
      "application/javascript": [
       "\n",
       "        if (window._pyforest_update_imports_cell) { window._pyforest_update_imports_cell('import pandas as pd\\nimport matplotlib.pyplot as plt'); }\n",
       "    "
      ],
      "text/plain": [
       "<IPython.core.display.Javascript object>"
      ]
     },
     "metadata": {},
     "output_type": "display_data"
    },
    {
     "data": {
      "application/javascript": [
       "\n",
       "        if (window._pyforest_update_imports_cell) { window._pyforest_update_imports_cell('import pandas as pd\\nimport matplotlib.pyplot as plt'); }\n",
       "    "
      ],
      "text/plain": [
       "<IPython.core.display.Javascript object>"
      ]
     },
     "metadata": {},
     "output_type": "display_data"
    },
    {
     "data": {
      "application/javascript": [
       "\n",
       "        if (window._pyforest_update_imports_cell) { window._pyforest_update_imports_cell('import pandas as pd\\nimport matplotlib.pyplot as plt'); }\n",
       "    "
      ],
      "text/plain": [
       "<IPython.core.display.Javascript object>"
      ]
     },
     "metadata": {},
     "output_type": "display_data"
    },
    {
     "data": {
      "application/javascript": [
       "\n",
       "        if (window._pyforest_update_imports_cell) { window._pyforest_update_imports_cell('import pandas as pd\\nimport matplotlib.pyplot as plt'); }\n",
       "    "
      ],
      "text/plain": [
       "<IPython.core.display.Javascript object>"
      ]
     },
     "metadata": {},
     "output_type": "display_data"
    },
    {
     "data": {
      "application/javascript": [
       "\n",
       "        if (window._pyforest_update_imports_cell) { window._pyforest_update_imports_cell('import pandas as pd\\nimport matplotlib.pyplot as plt'); }\n",
       "    "
      ],
      "text/plain": [
       "<IPython.core.display.Javascript object>"
      ]
     },
     "metadata": {},
     "output_type": "display_data"
    },
    {
     "data": {
      "application/javascript": [
       "\n",
       "        if (window._pyforest_update_imports_cell) { window._pyforest_update_imports_cell('import pandas as pd\\nimport matplotlib.pyplot as plt'); }\n",
       "    "
      ],
      "text/plain": [
       "<IPython.core.display.Javascript object>"
      ]
     },
     "metadata": {},
     "output_type": "display_data"
    },
    {
     "data": {
      "application/javascript": [
       "\n",
       "        if (window._pyforest_update_imports_cell) { window._pyforest_update_imports_cell('import pandas as pd\\nimport matplotlib.pyplot as plt'); }\n",
       "    "
      ],
      "text/plain": [
       "<IPython.core.display.Javascript object>"
      ]
     },
     "metadata": {},
     "output_type": "display_data"
    },
    {
     "data": {
      "application/javascript": [
       "\n",
       "        if (window._pyforest_update_imports_cell) { window._pyforest_update_imports_cell('import pandas as pd\\nimport matplotlib.pyplot as plt'); }\n",
       "    "
      ],
      "text/plain": [
       "<IPython.core.display.Javascript object>"
      ]
     },
     "metadata": {},
     "output_type": "display_data"
    },
    {
     "data": {
      "application/javascript": [
       "\n",
       "        if (window._pyforest_update_imports_cell) { window._pyforest_update_imports_cell('import pandas as pd\\nimport matplotlib.pyplot as plt'); }\n",
       "    "
      ],
      "text/plain": [
       "<IPython.core.display.Javascript object>"
      ]
     },
     "metadata": {},
     "output_type": "display_data"
    },
    {
     "data": {
      "application/javascript": [
       "\n",
       "        if (window._pyforest_update_imports_cell) { window._pyforest_update_imports_cell('import pandas as pd\\nimport matplotlib.pyplot as plt'); }\n",
       "    "
      ],
      "text/plain": [
       "<IPython.core.display.Javascript object>"
      ]
     },
     "metadata": {},
     "output_type": "display_data"
    },
    {
     "data": {
      "application/javascript": [
       "\n",
       "        if (window._pyforest_update_imports_cell) { window._pyforest_update_imports_cell('import pandas as pd\\nimport matplotlib.pyplot as plt'); }\n",
       "    "
      ],
      "text/plain": [
       "<IPython.core.display.Javascript object>"
      ]
     },
     "metadata": {},
     "output_type": "display_data"
    },
    {
     "data": {
      "application/javascript": [
       "\n",
       "        if (window._pyforest_update_imports_cell) { window._pyforest_update_imports_cell('import pandas as pd\\nimport matplotlib.pyplot as plt'); }\n",
       "    "
      ],
      "text/plain": [
       "<IPython.core.display.Javascript object>"
      ]
     },
     "metadata": {},
     "output_type": "display_data"
    },
    {
     "data": {
      "application/javascript": [
       "\n",
       "        if (window._pyforest_update_imports_cell) { window._pyforest_update_imports_cell('import pandas as pd\\nimport matplotlib.pyplot as plt'); }\n",
       "    "
      ],
      "text/plain": [
       "<IPython.core.display.Javascript object>"
      ]
     },
     "metadata": {},
     "output_type": "display_data"
    },
    {
     "data": {
      "application/javascript": [
       "\n",
       "        if (window._pyforest_update_imports_cell) { window._pyforest_update_imports_cell('import pandas as pd\\nimport matplotlib.pyplot as plt'); }\n",
       "    "
      ],
      "text/plain": [
       "<IPython.core.display.Javascript object>"
      ]
     },
     "metadata": {},
     "output_type": "display_data"
    },
    {
     "data": {
      "application/javascript": [
       "\n",
       "        if (window._pyforest_update_imports_cell) { window._pyforest_update_imports_cell('import pandas as pd\\nimport matplotlib.pyplot as plt'); }\n",
       "    "
      ],
      "text/plain": [
       "<IPython.core.display.Javascript object>"
      ]
     },
     "metadata": {},
     "output_type": "display_data"
    },
    {
     "data": {
      "application/javascript": [
       "\n",
       "        if (window._pyforest_update_imports_cell) { window._pyforest_update_imports_cell('import pandas as pd\\nimport matplotlib.pyplot as plt'); }\n",
       "    "
      ],
      "text/plain": [
       "<IPython.core.display.Javascript object>"
      ]
     },
     "metadata": {},
     "output_type": "display_data"
    },
    {
     "data": {
      "application/javascript": [
       "\n",
       "        if (window._pyforest_update_imports_cell) { window._pyforest_update_imports_cell('import pandas as pd\\nimport matplotlib.pyplot as plt'); }\n",
       "    "
      ],
      "text/plain": [
       "<IPython.core.display.Javascript object>"
      ]
     },
     "metadata": {},
     "output_type": "display_data"
    },
    {
     "data": {
      "application/javascript": [
       "\n",
       "        if (window._pyforest_update_imports_cell) { window._pyforest_update_imports_cell('import pandas as pd\\nimport matplotlib.pyplot as plt'); }\n",
       "    "
      ],
      "text/plain": [
       "<IPython.core.display.Javascript object>"
      ]
     },
     "metadata": {},
     "output_type": "display_data"
    },
    {
     "data": {
      "application/javascript": [
       "\n",
       "        if (window._pyforest_update_imports_cell) { window._pyforest_update_imports_cell('import pandas as pd\\nimport matplotlib.pyplot as plt'); }\n",
       "    "
      ],
      "text/plain": [
       "<IPython.core.display.Javascript object>"
      ]
     },
     "metadata": {},
     "output_type": "display_data"
    },
    {
     "data": {
      "image/png": "[encoded data removed]",
      "text/plain": [
       "<Figure size 1500x1000 with 4 Axes>"
      ]
     },
     "metadata": {},
     "output_type": "display_data"
    }
   ],
   "source": [
    "plt.figure(figsize=(15, 10))\n",
    "\n",
    "plt.subplot(2, 2, 1)\n",
    "plt.bar(top_beginner_slope['country'], top_beginner_slope['beginner_slope'], color='skyblue')\n",
    "plt.title('Top 5 Negara dengan Beginner Slope Tertinggi')\n",
    "plt.xlabel('Negara')\n",
    "plt.ylabel('Rata-rata Beginner Slope')\n",
    "\n",
    "plt.subplot(2, 2, 2)\n",
    "plt.bar(top_gondola_lifts['country'], top_gondola_lifts['average_gondola_lifts'], color='lightgreen')\n",
    "plt.title('Top 5 Negara dengan Gondola Lift Terbanyak')\n",
    "plt.xlabel('Negara')\n",
    "plt.ylabel('Rata-rata Gondola Lift')\n",
    "\n",
    "plt.subplot(2, 2, 3)\n",
    "plt.bar(top_total_lifts['country'], top_total_lifts['average_total_lifts'], color='orange')\n",
    "plt.title('Top 5 Negara dengan Total Lift Terbanyak')\n",
    "plt.xlabel('Negara')\n",
    "plt.ylabel('Rata-rata Total Lift')\n",
    "\n",
    "plt.subplot(2, 2, 4)\n",
    "plt.bar(top_snow_cannons['country'], top_snow_cannons['average_snow_cannons'], color='lightcoral')\n",
    "plt.title('Top 5 Negara dengan Snow Cannons Terbanyak')\n",
    "plt.xlabel('Negara')\n",
    "plt.ylabel('Rata-rata Snow Cannons')\n",
    "\n",
    "plt.tight_layout()\n",
    "plt.show()"
   ]
  },
  {
   "cell_type": "markdown",
   "id": "a933280d",
   "metadata": {},
   "source": [
    "Untuk mencari resor yang sangat cocok untuk anak-anak adalah dengan menggunakan data terbaik dari banyaknya lintasan pemula, banyaknya wahana gondola, banyaknya lift dikarenakan adanya lift akan membuat anak-anak menjadi aman dalam mendaki, dan seberapa banyak mesin pembuat salju untuk tujuan bermain.\n",
    "\n",
    "Sehingga diketahui negara Prancis itu memiliki lintasan pemula terbanyak. Negara Austria memiliki wahana gondola salju terbanyak. Negara Prancis memiliki jumlah lift terbanyak. Juga negara Andorra memiliki jumlah mesin pembuat salju terbanyak. Sehingga berdasarkan analisis dapat ditentukan bahwa negara Austria lalu negara Prancis menjadi negara yang paling ramah untuk anak-anak mengikuti olahraga salju ini."
   ]
  },
  {
   "cell_type": "markdown",
   "id": "89fa0c38",
   "metadata": {},
   "source": [
    "6. Resort Ski yang Cocok untuk Liburan Keluarga"
   ]
  },
  {
   "cell_type": "code",
   "execution_count": 92,
   "id": "5adac265",
   "metadata": {},
   "outputs": [],
   "source": [
    "sql8 = '''\n",
    "SELECT resort, country, child_friendly, snowparks, nightskiing, summer_skiing,\n",
    "       price, total_lifts, longest_run, total_slope\n",
    "       \n",
    "FROM resorts\n",
    "\n",
    "WHERE (child_friendly = 'Yes') AND \n",
    "      ((snowparks = 'Yes' AND nightskiing = 'Yes' AND summer_skiing = 'Yes') OR\n",
    "       (snowparks = 'Yes' AND nightskiing = 'Yes' AND summer_skiing = 'No') OR\n",
    "       (snowparks = 'Yes' AND nightskiing = 'No' AND summer_skiing = 'Yes') OR\n",
    "       (snowparks = 'No' AND nightskiing = 'Yes' AND summer_skiing = 'Yes'))\n",
    "      AND (total_slope > 200);\n",
    "\n",
    "'''"
   ]
  },
  {
   "cell_type": "code",
   "execution_count": 93,
   "id": "d615fdef",
   "metadata": {},
   "outputs": [
    {
     "data": {
      "application/javascript": [
       "\n",
       "        if (window._pyforest_update_imports_cell) { window._pyforest_update_imports_cell('import pandas as pd\\nimport matplotlib.pyplot as plt'); }\n",
       "    "
      ],
      "text/plain": [
       "<IPython.core.display.Javascript object>"
      ]
     },
     "metadata": {},
     "output_type": "display_data"
    },
    {
     "data": {
      "text/html": [
       "<div>\n",
       "<style scoped>\n",
       "    .dataframe tbody tr th:only-of-type {\n",
       "        vertical-align: middle;\n",
       "    }\n",
       "\n",
       "    .dataframe tbody tr th {\n",
       "        vertical-align: top;\n",
       "    }\n",
       "\n",
       "    .dataframe thead th {\n",
       "        text-align: right;\n",
       "    }\n",
       "</style>\n",
       "<table border=\"1\" class=\"dataframe\">\n",
       "  <thead>\n",
       "    <tr style=\"text-align: right;\">\n",
       "      <th></th>\n",
       "      <th>resort</th>\n",
       "      <th>country</th>\n",
       "      <th>child_friendly</th>\n",
       "      <th>snowparks</th>\n",
       "      <th>nightskiing</th>\n",
       "      <th>summer_skiing</th>\n",
       "      <th>price</th>\n",
       "      <th>total_lifts</th>\n",
       "      <th>longest_run</th>\n",
       "      <th>total_slope</th>\n",
       "    </tr>\n",
       "  </thead>\n",
       "  <tbody>\n",
       "    <tr>\n",
       "      <th>0</th>\n",
       "      <td>Les Gets (Les Portes du Soleil)</td>\n",
       "      <td>France</td>\n",
       "      <td>Yes</td>\n",
       "      <td>Yes</td>\n",
       "      <td>Yes</td>\n",
       "      <td>No</td>\n",
       "      <td>51</td>\n",
       "      <td>174</td>\n",
       "      <td>0</td>\n",
       "      <td>580</td>\n",
       "    </tr>\n",
       "    <tr>\n",
       "      <th>1</th>\n",
       "      <td>Park City</td>\n",
       "      <td>United States</td>\n",
       "      <td>Yes</td>\n",
       "      <td>Yes</td>\n",
       "      <td>Yes</td>\n",
       "      <td>No</td>\n",
       "      <td>97</td>\n",
       "      <td>41</td>\n",
       "      <td>4</td>\n",
       "      <td>250</td>\n",
       "    </tr>\n",
       "    <tr>\n",
       "      <th>2</th>\n",
       "      <td>Saalbach Hinterglemm Leogang Fieberbrunn (Skic...</td>\n",
       "      <td>Austria</td>\n",
       "      <td>Yes</td>\n",
       "      <td>Yes</td>\n",
       "      <td>Yes</td>\n",
       "      <td>No</td>\n",
       "      <td>53</td>\n",
       "      <td>71</td>\n",
       "      <td>7</td>\n",
       "      <td>270</td>\n",
       "    </tr>\n",
       "    <tr>\n",
       "      <th>3</th>\n",
       "      <td>Grandvalira – Pas de la Casa/?Grau Roig/?Solde...</td>\n",
       "      <td>Andorra</td>\n",
       "      <td>Yes</td>\n",
       "      <td>Yes</td>\n",
       "      <td>Yes</td>\n",
       "      <td>No</td>\n",
       "      <td>47</td>\n",
       "      <td>72</td>\n",
       "      <td>6</td>\n",
       "      <td>210</td>\n",
       "    </tr>\n",
       "    <tr>\n",
       "      <th>4</th>\n",
       "      <td>Avoriaz (Les Portes du Soleil)</td>\n",
       "      <td>France</td>\n",
       "      <td>Yes</td>\n",
       "      <td>Yes</td>\n",
       "      <td>Yes</td>\n",
       "      <td>No</td>\n",
       "      <td>51</td>\n",
       "      <td>174</td>\n",
       "      <td>0</td>\n",
       "      <td>580</td>\n",
       "    </tr>\n",
       "  </tbody>\n",
       "</table>\n",
       "</div>"
      ],
      "text/plain": [
       "                                              resort        country  \\\n",
       "0                    Les Gets (Les Portes du Soleil)         France   \n",
       "1                                          Park City  United States   \n",
       "2  Saalbach Hinterglemm Leogang Fieberbrunn (Skic...        Austria   \n",
       "3  Grandvalira – Pas de la Casa/?Grau Roig/?Solde...        Andorra   \n",
       "4                     Avoriaz (Les Portes du Soleil)         France   \n",
       "\n",
       "  child_friendly snowparks nightskiing summer_skiing  price  total_lifts  \\\n",
       "0            Yes       Yes         Yes            No     51          174   \n",
       "1            Yes       Yes         Yes            No     97           41   \n",
       "2            Yes       Yes         Yes            No     53           71   \n",
       "3            Yes       Yes         Yes            No     47           72   \n",
       "4            Yes       Yes         Yes            No     51          174   \n",
       "\n",
       "   longest_run  total_slope  \n",
       "0            0          580  \n",
       "1            4          250  \n",
       "2            7          270  \n",
       "3            6          210  \n",
       "4            0          580  "
      ]
     },
     "execution_count": 93,
     "metadata": {},
     "output_type": "execute_result"
    }
   ],
   "source": [
    "liburan = pd.read_sql_query(sql8, koneksi)\n",
    "liburan.head()"
   ]
  },
  {
   "cell_type": "code",
   "execution_count": 121,
   "id": "1ce97f0e",
   "metadata": {},
   "outputs": [],
   "source": [
    "top_expensive_resorts = liburan.nlargest(5, 'price')\n",
    "top_lift_resorts = liburan.nlargest(5, 'total_lifts')\n",
    "top_longest_run_resorts = liburan.nlargest(5, 'longest_run')"
   ]
  },
  {
   "cell_type": "code",
   "execution_count": 105,
   "id": "d5f8a8f5",
   "metadata": {},
   "outputs": [
    {
     "data": {
      "application/javascript": [
       "\n",
       "        if (window._pyforest_update_imports_cell) { window._pyforest_update_imports_cell('import pandas as pd\\nimport matplotlib.pyplot as plt'); }\n",
       "    "
      ],
      "text/plain": [
       "<IPython.core.display.Javascript object>"
      ]
     },
     "metadata": {},
     "output_type": "display_data"
    },
    {
     "data": {
      "application/javascript": [
       "\n",
       "        if (window._pyforest_update_imports_cell) { window._pyforest_update_imports_cell('import pandas as pd\\nimport matplotlib.pyplot as plt'); }\n",
       "    "
      ],
      "text/plain": [
       "<IPython.core.display.Javascript object>"
      ]
     },
     "metadata": {},
     "output_type": "display_data"
    },
    {
     "data": {
      "application/javascript": [
       "\n",
       "        if (window._pyforest_update_imports_cell) { window._pyforest_update_imports_cell('import pandas as pd\\nimport matplotlib.pyplot as plt'); }\n",
       "    "
      ],
      "text/plain": [
       "<IPython.core.display.Javascript object>"
      ]
     },
     "metadata": {},
     "output_type": "display_data"
    },
    {
     "data": {
      "application/javascript": [
       "\n",
       "        if (window._pyforest_update_imports_cell) { window._pyforest_update_imports_cell('import pandas as pd\\nimport matplotlib.pyplot as plt'); }\n",
       "    "
      ],
      "text/plain": [
       "<IPython.core.display.Javascript object>"
      ]
     },
     "metadata": {},
     "output_type": "display_data"
    },
    {
     "data": {
      "application/javascript": [
       "\n",
       "        if (window._pyforest_update_imports_cell) { window._pyforest_update_imports_cell('import pandas as pd\\nimport matplotlib.pyplot as plt'); }\n",
       "    "
      ],
      "text/plain": [
       "<IPython.core.display.Javascript object>"
      ]
     },
     "metadata": {},
     "output_type": "display_data"
    },
    {
     "data": {
      "application/javascript": [
       "\n",
       "        if (window._pyforest_update_imports_cell) { window._pyforest_update_imports_cell('import pandas as pd\\nimport matplotlib.pyplot as plt'); }\n",
       "    "
      ],
      "text/plain": [
       "<IPython.core.display.Javascript object>"
      ]
     },
     "metadata": {},
     "output_type": "display_data"
    },
    {
     "data": {
      "application/javascript": [
       "\n",
       "        if (window._pyforest_update_imports_cell) { window._pyforest_update_imports_cell('import pandas as pd\\nimport matplotlib.pyplot as plt'); }\n",
       "    "
      ],
      "text/plain": [
       "<IPython.core.display.Javascript object>"
      ]
     },
     "metadata": {},
     "output_type": "display_data"
    },
    {
     "data": {
      "application/javascript": [
       "\n",
       "        if (window._pyforest_update_imports_cell) { window._pyforest_update_imports_cell('import pandas as pd\\nimport matplotlib.pyplot as plt'); }\n",
       "    "
      ],
      "text/plain": [
       "<IPython.core.display.Javascript object>"
      ]
     },
     "metadata": {},
     "output_type": "display_data"
    },
    {
     "data": {
      "application/javascript": [
       "\n",
       "        if (window._pyforest_update_imports_cell) { window._pyforest_update_imports_cell('import pandas as pd\\nimport matplotlib.pyplot as plt'); }\n",
       "    "
      ],
      "text/plain": [
       "<IPython.core.display.Javascript object>"
      ]
     },
     "metadata": {},
     "output_type": "display_data"
    },
    {
     "data": {
      "application/javascript": [
       "\n",
       "        if (window._pyforest_update_imports_cell) { window._pyforest_update_imports_cell('import pandas as pd\\nimport matplotlib.pyplot as plt'); }\n",
       "    "
      ],
      "text/plain": [
       "<IPython.core.display.Javascript object>"
      ]
     },
     "metadata": {},
     "output_type": "display_data"
    },
    {
     "data": {
      "application/javascript": [
       "\n",
       "        if (window._pyforest_update_imports_cell) { window._pyforest_update_imports_cell('import pandas as pd\\nimport matplotlib.pyplot as plt'); }\n",
       "    "
      ],
      "text/plain": [
       "<IPython.core.display.Javascript object>"
      ]
     },
     "metadata": {},
     "output_type": "display_data"
    },
    {
     "data": {
      "application/javascript": [
       "\n",
       "        if (window._pyforest_update_imports_cell) { window._pyforest_update_imports_cell('import pandas as pd\\nimport matplotlib.pyplot as plt'); }\n",
       "    "
      ],
      "text/plain": [
       "<IPython.core.display.Javascript object>"
      ]
     },
     "metadata": {},
     "output_type": "display_data"
    },
    {
     "data": {
      "application/javascript": [
       "\n",
       "        if (window._pyforest_update_imports_cell) { window._pyforest_update_imports_cell('import pandas as pd\\nimport matplotlib.pyplot as plt'); }\n",
       "    "
      ],
      "text/plain": [
       "<IPython.core.display.Javascript object>"
      ]
     },
     "metadata": {},
     "output_type": "display_data"
    },
    {
     "data": {
      "application/javascript": [
       "\n",
       "        if (window._pyforest_update_imports_cell) { window._pyforest_update_imports_cell('import pandas as pd\\nimport matplotlib.pyplot as plt'); }\n",
       "    "
      ],
      "text/plain": [
       "<IPython.core.display.Javascript object>"
      ]
     },
     "metadata": {},
     "output_type": "display_data"
    },
    {
     "data": {
      "application/javascript": [
       "\n",
       "        if (window._pyforest_update_imports_cell) { window._pyforest_update_imports_cell('import pandas as pd\\nimport matplotlib.pyplot as plt'); }\n",
       "    "
      ],
      "text/plain": [
       "<IPython.core.display.Javascript object>"
      ]
     },
     "metadata": {},
     "output_type": "display_data"
    },
    {
     "data": {
      "application/javascript": [
       "\n",
       "        if (window._pyforest_update_imports_cell) { window._pyforest_update_imports_cell('import pandas as pd\\nimport matplotlib.pyplot as plt'); }\n",
       "    "
      ],
      "text/plain": [
       "<IPython.core.display.Javascript object>"
      ]
     },
     "metadata": {},
     "output_type": "display_data"
    },
    {
     "data": {
      "application/javascript": [
       "\n",
       "        if (window._pyforest_update_imports_cell) { window._pyforest_update_imports_cell('import pandas as pd\\nimport matplotlib.pyplot as plt'); }\n",
       "    "
      ],
      "text/plain": [
       "<IPython.core.display.Javascript object>"
      ]
     },
     "metadata": {},
     "output_type": "display_data"
    },
    {
     "data": {
      "application/javascript": [
       "\n",
       "        if (window._pyforest_update_imports_cell) { window._pyforest_update_imports_cell('import pandas as pd\\nimport matplotlib.pyplot as plt'); }\n",
       "    "
      ],
      "text/plain": [
       "<IPython.core.display.Javascript object>"
      ]
     },
     "metadata": {},
     "output_type": "display_data"
    },
    {
     "data": {
      "application/javascript": [
       "\n",
       "        if (window._pyforest_update_imports_cell) { window._pyforest_update_imports_cell('import pandas as pd\\nimport matplotlib.pyplot as plt'); }\n",
       "    "
      ],
      "text/plain": [
       "<IPython.core.display.Javascript object>"
      ]
     },
     "metadata": {},
     "output_type": "display_data"
    },
    {
     "data": {
      "application/javascript": [
       "\n",
       "        if (window._pyforest_update_imports_cell) { window._pyforest_update_imports_cell('import pandas as pd\\nimport matplotlib.pyplot as plt'); }\n",
       "    "
      ],
      "text/plain": [
       "<IPython.core.display.Javascript object>"
      ]
     },
     "metadata": {},
     "output_type": "display_data"
    },
    {
     "data": {
      "application/javascript": [
       "\n",
       "        if (window._pyforest_update_imports_cell) { window._pyforest_update_imports_cell('import pandas as pd\\nimport matplotlib.pyplot as plt'); }\n",
       "    "
      ],
      "text/plain": [
       "<IPython.core.display.Javascript object>"
      ]
     },
     "metadata": {},
     "output_type": "display_data"
    },
    {
     "data": {
      "application/javascript": [
       "\n",
       "        if (window._pyforest_update_imports_cell) { window._pyforest_update_imports_cell('import pandas as pd\\nimport matplotlib.pyplot as plt'); }\n",
       "    "
      ],
      "text/plain": [
       "<IPython.core.display.Javascript object>"
      ]
     },
     "metadata": {},
     "output_type": "display_data"
    },
    {
     "data": {
      "application/javascript": [
       "\n",
       "        if (window._pyforest_update_imports_cell) { window._pyforest_update_imports_cell('import pandas as pd\\nimport matplotlib.pyplot as plt'); }\n",
       "    "
      ],
      "text/plain": [
       "<IPython.core.display.Javascript object>"
      ]
     },
     "metadata": {},
     "output_type": "display_data"
    },
    {
     "data": {
      "application/javascript": [
       "\n",
       "        if (window._pyforest_update_imports_cell) { window._pyforest_update_imports_cell('import pandas as pd\\nimport matplotlib.pyplot as plt'); }\n",
       "    "
      ],
      "text/plain": [
       "<IPython.core.display.Javascript object>"
      ]
     },
     "metadata": {},
     "output_type": "display_data"
    },
    {
     "data": {
      "application/javascript": [
       "\n",
       "        if (window._pyforest_update_imports_cell) { window._pyforest_update_imports_cell('import pandas as pd\\nimport matplotlib.pyplot as plt'); }\n",
       "    "
      ],
      "text/plain": [
       "<IPython.core.display.Javascript object>"
      ]
     },
     "metadata": {},
     "output_type": "display_data"
    },
    {
     "data": {
      "application/javascript": [
       "\n",
       "        if (window._pyforest_update_imports_cell) { window._pyforest_update_imports_cell('import pandas as pd\\nimport matplotlib.pyplot as plt'); }\n",
       "    "
      ],
      "text/plain": [
       "<IPython.core.display.Javascript object>"
      ]
     },
     "metadata": {},
     "output_type": "display_data"
    },
    {
     "data": {
      "application/javascript": [
       "\n",
       "        if (window._pyforest_update_imports_cell) { window._pyforest_update_imports_cell('import pandas as pd\\nimport matplotlib.pyplot as plt'); }\n",
       "    "
      ],
      "text/plain": [
       "<IPython.core.display.Javascript object>"
      ]
     },
     "metadata": {},
     "output_type": "display_data"
    },
    {
     "data": {
      "application/javascript": [
       "\n",
       "        if (window._pyforest_update_imports_cell) { window._pyforest_update_imports_cell('import pandas as pd\\nimport matplotlib.pyplot as plt'); }\n",
       "    "
      ],
      "text/plain": [
       "<IPython.core.display.Javascript object>"
      ]
     },
     "metadata": {},
     "output_type": "display_data"
    },
    {
     "data": {
      "image/png": "[encoded data removed]",
      "text/plain": [
       "<Figure size 1500x1000 with 4 Axes>"
      ]
     },
     "metadata": {},
     "output_type": "display_data"
    }
   ],
   "source": [
    "plt.figure(figsize=(15, 10))\n",
    "\n",
    "plt.subplot(2, 2, 1)\n",
    "plt.bar(top_expensive_resorts['resort'], top_expensive_resorts['price'], color='skyblue')\n",
    "plt.title('Top 5 Resort dengan Harga Paling Mahal')\n",
    "plt.xlabel('Resort')\n",
    "plt.ylabel('Harga')\n",
    "plt.xticks(rotation=90)\n",
    "plt.gca().set_xticklabels([text[:10] for text in top_expensive_resorts['resort']], fontsize=10)\n",
    "\n",
    "plt.subplot(2, 2, 2)\n",
    "plt.bar(top_lift_resorts['resort'], top_lift_resorts['total_lifts'], color='lightgreen')\n",
    "plt.title('Top 5 Resort dengan Jumlah Lift Paling Banyak')\n",
    "plt.xlabel('Resort')\n",
    "plt.ylabel('Lift')\n",
    "plt.xticks(rotation=90)\n",
    "plt.gca().set_xticklabels([text[:10] for text in top_total_slope_resorts['resort']], fontsize=10)\n",
    "\n",
    "plt.subplot(2, 2, 3)\n",
    "plt.bar(top_longest_run_resorts['resort'], top_longest_run_resorts['longest_run'], color='orange')\n",
    "plt.title('Top 5 Resort dengan Lintasan Paling Jauh')\n",
    "plt.xlabel('Resort')\n",
    "plt.ylabel('Longest Run')\n",
    "plt.xticks(rotation=90)\n",
    "plt.gca().set_xticklabels([text[:10] for text in top_longest_run_resorts['resort']], fontsize=10)  # Batasi ke 10 kata\n",
    "\n",
    "plt.subplot(2, 2, 4)\n",
    "country_count = liburan['country'].value_counts()\n",
    "plt.pie(country_count, labels=country_count.index, autopct='%1.1f%%')\n",
    "plt.title('Persentase Resort pada Setiap Negara yang Cocok untuk Liburan')\n",
    "plt.axis('equal')\n",
    "\n",
    "plt.tight_layout()\n",
    "plt.show()"
   ]
  },
  {
   "cell_type": "code",
   "execution_count": 122,
   "id": "f1561b4d",
   "metadata": {},
   "outputs": [
    {
     "data": {
      "text/plain": [
       "country\n",
       "France           13\n",
       "Austria           5\n",
       "Switzerland       5\n",
       "Andorra           3\n",
       "United States     2\n",
       "Name: count, dtype: int64"
      ]
     },
     "execution_count": 122,
     "metadata": {},
     "output_type": "execute_result"
    }
   ],
   "source": [
    "country_count = liburan['country'].value_counts()\n",
    "country_count"
   ]
  },
  {
   "cell_type": "markdown",
   "id": "e1ef6236",
   "metadata": {},
   "source": [
    "Untuk menentukan suatu resort ski yang paling cocok untuk liburan bersama keluarga adalah dengan menggunakan data yang berkaitan dengan liburan seperti fitur data child_friendly, snowparks, nightskiing, dan summer_skiing. Berdasarkan keempat fitur tersebut child_friendly haruslah 'Yes' atau tersedia untuk setiap resort. Lalu dari ketiga fitur seperti snowparks, nightskiing, dan summer_skiing itu diwajibkan minimal 2 fitur itu 'Yes' atau harus tersedia pada suatu resort.\n",
    "\n",
    "Sehingga berdasarkan hasil analisis dapat diketahui bahwa Resort Ski khusus liburan dengan harga tiket paling mahal yaitu pada resort bernama Snowmass. Lalu untuk resort Ski dengan lintasan paling jauh itu dimiliki oleh 'Alpe d'Hue'. Dimana hampir 50% resort di Dunia yang cocok untuk liburan keluarga itu berada di negara Prancis."
   ]
  }
 ],
 "metadata": {
  "kernelspec": {
   "display_name": "Python 3 (ipykernel)",
   "language": "python",
   "name": "python3"
  },
  "language_info": {
   "codemirror_mode": {
    "name": "ipython",
    "version": 3
   },
   "file_extension": ".py",
   "mimetype": "text/x-python",
   "name": "python",
   "nbconvert_exporter": "python",
   "pygments_lexer": "ipython3",
   "version": "3.11.5"
  }
 },
 "nbformat": 4,
 "nbformat_minor": 5
}
